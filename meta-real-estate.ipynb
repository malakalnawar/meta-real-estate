{
 "cells": [
  {
   "cell_type": "markdown",
   "id": "3fbfbaaa-238f-44fe-b7de-47e61d928c4c",
   "metadata": {},
   "source": [
    "<center><h1>Metaverse Real Estate: An Analysis</h1></center>"
   ]
  },
  {
   "cell_type": "markdown",
   "id": "b91e32f6-dd72-489b-8a71-bcdb08a62914",
   "metadata": {},
   "source": [
    "# Introduction & Background"
   ]
  },
  {
   "cell_type": "markdown",
   "id": "d660a560-80cc-48fc-b341-2315040aea47",
   "metadata": {},
   "source": [
    "Unlike traditional real estate, ‘metaverse real estate’ (or ‘virtual/digital real estate') is often questioned for its authenticity. Ruby Home’s article, “Metaverse Real Estate Statistics (2024)”, defines these properties as 3D virtual spaces owned via non-fungible tokens (NFTs), valued between 3300 and 16000 USD in 2022 [[1]](https://www.rubyhome.com/blog/metaverse-real-estate-stats/).\n",
    "\n",
    "Similar to physical real estate, these virtual lands appreciate or depreciate, can be developed, and rented out, providing passive income. Discussions around regulating ‘property rights’ are emerging to sustain the metaverse markets (Laborde et al., 2023) [[2]](https://ieeexplore.ieee.org/abstract/document/10271870). As noted by Heeseung Yu, the metaverse hosts an economic system linked to the real world, allowing real-world money to be invested in and profits to be extracted from the metaverse (Yu, 2024) [[3]](https://doi.org/10.1016/j.tele.2024.102110).\n",
    "\n",
    "Governments, such as China with its Three-Year Action Plan for the Industrial Innovation and Development of the Metaverse (2023–2025), are also investing in their own version of digital space (Gong & Xue, 2024) [[4]](https://muse.jhu.edu/article/918867).\n",
    "\n",
    "But why invest in virtual real estate? Yu suggests users can earn income and gain valuable assets through unique economic activities in the metaverse, unlike in real life (Yu, 2024) [[5]](https://doi.org/10.1016/j.tele.2024.102110). This shift might be driven by real-world constraints, such as the rising cost of physical real estate.\n",
    "\n",
    "I chose to examine the connection between physical and virtual real estate by conducting a quantitative analysis of their costs. My goal is to see if house prices and purchasing power influence the motivation to buy virtual land. I use international real estate data for the physical world and data from Decentraland, known for its pioneering role and extensive history in virtual real estate. Additionally, I perform sentiment analysis on textual data collected from the social media platform X to better understand people’s general feelings surrounding virtual real estate."
   ]
  },
  {
   "cell_type": "markdown",
   "id": "114e4a61-3af5-46ec-8d14-9f5cadc4269d",
   "metadata": {},
   "source": [
    "# Aims & Objectives"
   ]
  },
  {
   "cell_type": "markdown",
   "id": "f91a1163-e012-4df1-8526-ce9cc9ce42b6",
   "metadata": {},
   "source": [
    "\n",
    "## Project Aim\n",
    "\n",
    "The primary goal of this project is to address the following questions:\n",
    "\n",
    "- How much has traditional real estate increased in value over the years?\n",
    "- Can people afford today's real estate? How does purchasing power compare to real estate value?\n",
    "- Is there a relationship between the rise in physical real estate prices and the trend of virtual real estate buying?\n",
    "- What is the current value of virtual real estate?\n",
    "- Who is interested in virtual real estate, and what are their sentiments?\n",
    "\n",
    "## Objectives\n",
    "\n",
    "To answer these questions, I will:\n",
    "\n",
    "1. Analyze the increase in house prices over time.\n",
    "2. Determine the average price of real estate.\n",
    "3. Analyze the increase in purchasing power over time.\n",
    "4. Determine the average price of virtual real estate.\n",
    "5. Perform sentiment analysis on social media data about virtual real estate.\n",
    "6. Identify which countries are discussing this subject."
   ]
  },
  {
   "cell_type": "markdown",
   "id": "c2d0f3cf-c89a-4dbd-8713-26c6e8511985",
   "metadata": {},
   "source": [
    "# Ethical Statement"
   ]
  },
  {
   "cell_type": "markdown",
   "id": "1675313c-baf4-47ae-8205-40add2e6d1c4",
   "metadata": {},
   "source": [
    "This project utilizes publicly available data to analyze real estate market trends and perform sentiment analysis on X data. The datasets include information from Kaggle, Decentraland's LAND API and other open sources like the Federal Reserve Bank of Dallas which require proper citation and is inlcuded below. I have abided by the 'Terms of Use' of these sources, ensuring all data is used ethically and responsibly.\n",
    "\n",
    "One of the datasets includes tweets collected from X using the X API, which was shared on Kaggle under the CC0 1.0 Universal license, placing it in the public domain. My analysis of the X data focused on sentiment analysis and the geographical distribution of tweets without disclosing personal information, such as names or other identifiers. Only the locations and usernames, which are publicly available on X, were included in the dataset.\n",
    "\n",
    "No web scraping techniques were employed; all data was acquired through legitimate channels, respecting the privacy and rights of the data providers. \n",
    "\n",
    "My analysis aims to derive aggregate insights, such as average prices and sentiment trends, without revealing sensitive personal information."
   ]
  },
  {
   "cell_type": "markdown",
   "id": "0ef1392b-f63d-4d5d-a276-22e351541375",
   "metadata": {},
   "source": [
    "# Data (Acquisition, Cleansing & Analysis)"
   ]
  },
  {
   "cell_type": "markdown",
   "id": "2ac9d8c4-9d59-496b-9524-d00f7894ca44",
   "metadata": {},
   "source": [
    "## Metadata"
   ]
  },
  {
   "cell_type": "markdown",
   "id": "21ac801d-59e2-40c7-ba7f-f89465ae42e6",
   "metadata": {},
   "source": [
    "### Data & Source"
   ]
  },
  {
   "cell_type": "markdown",
   "id": "15b9b7ed-0e44-473a-8d3d-be873267ce8f",
   "metadata": {},
   "source": [
    "- **International House Price Database (IHPD)**: HPI and PDI data for countries around the globe (from 1975 to 2023) - *[Federal Reserve Bank of Dallas](https://www.dallasfed.org/research/international/houseprice#tab2)*\n",
    "- **Decentraland LAND API**: prices of parcels from Decentraland - *[Decentraland](https://decentraland.org/blog/technology/land-api-v2)*\n",
    "- **Metaverse Tweets**: tweets collected from X containing the hashtag #Metaverse - *[Kaggle](https://www.kaggle.com/datasets/mathurinache/metaverse-tweets?resource=download)*\n",
    "- **Countries**: a list of all countries in the world - *[GitHub](https://gist.github.com/rogargon/5534902)*\n",
    "- **States**: a list of all states in the US - *[GitHub](https://usastatescode.com/state-array-json)*\n",
    "- **CoinGecko API**: exchange rates for different fiat/crypto currencies - [CoinGecko](https://docs.coingecko.com/reference/introduction)"
   ]
  },
  {
   "cell_type": "markdown",
   "id": "6ef73ffb-51d8-4c4c-99d0-9672982647da",
   "metadata": {},
   "source": [
    "### Motivation for Data Selection"
   ]
  },
  {
   "cell_type": "markdown",
   "id": "8ba1e3fd-dd31-4e74-8e39-9bf30ea530e5",
   "metadata": {},
   "source": [
    "I chose to work with the International House Price Database (IHPD) because it provides HPI and PDI data for many countries around the globe and is not confined to one or a few countries. This will be helpful to build a clearer image of global real estate prices since everyone in the world has access to metaverse technology and this analysis is focused around anyone who has the potential to buy virtual real estate.\n",
    "\n",
    "Decentraland's LAND API is important becuase it provides up-to-date virtual real estate prices, but most importantly, I chose them because they are the ones to have pioneered virtual real estate. [[6]](https://www.generalist.com/briefing/decentraland)\n",
    "\n",
    "Meteverse tweets was chosen because vitual real estate falls under the umbrella of the 'Metaverse'. X being far reaching platform around the world, I hope to find some insight into people's thoughts around the topic."
   ]
  },
  {
   "cell_type": "markdown",
   "id": "a2599015-0c2d-4eb6-9589-dbde82c7b123",
   "metadata": {},
   "source": [
    "### Shortcomming of the Data"
   ]
  },
  {
   "cell_type": "markdown",
   "id": "5aefa31d-7c2a-4765-aabe-6c0b56a75991",
   "metadata": {},
   "source": [
    "Neither of these datasets cover the entire globe. The International House Price Database (IHPD) doesn't have data on every country in the world, Decentraland isn't the only metaverese but one amongst many, and many people's thoughts and opinions are not shared on X. Please keep this in mind as you read through this paper, I strived to make this analysis as universal as possible but I do not wish to protray it as fully universal.\n",
    "\n",
    "Time frames may differ. The IHPD covers 1975 through 2023, The Decentraland data is up-to-date because it fetches data from an API, while the metaverse tweets from X were collected in 2021."
   ]
  },
  {
   "cell_type": "markdown",
   "id": "090f93f1-80dc-479d-a459-57624da59971",
   "metadata": {},
   "source": [
    "### Related Data & Research"
   ]
  },
  {
   "cell_type": "markdown",
   "id": "9766704f-07bf-4c61-bd50-1765b298533e",
   "metadata": {},
   "source": [
    "The following resources where discovered during the making of this notebook and are related to some degree but do not cover in full the scope of this research. More data and research exists out there."
   ]
  },
  {
   "cell_type": "markdown",
   "id": "d22d135d-9525-4be4-833a-864bfee97371",
   "metadata": {},
   "source": [
    "#### Related Data"
   ]
  },
  {
   "cell_type": "markdown",
   "id": "ebc8aeb8-6310-4775-88d8-4b3ba4fbbce5",
   "metadata": {},
   "source": [
    "- Metaverse Financial Transactions Dataset - [Kaggle](https://www.kaggle.com/datasets/faizaniftikharjanjua/metaverse-financial-transactions-dataset)\n",
    "    - Covers all transactions in the metaverse without identifying which ones are related to virtual real estate.\n",
    "- Real Residential Property Prices for United States - [Federal Reserve Bank of St. Louis](https://fred.stlouisfed.org/series/QUSR628BIS)\n",
    "    - Covers real estate data in the US only.\n",
    "- Decentraland NFT Virtual Estate Dataset - [Kaggle](https://www.kaggle.com/datasets/amirkhalesi/decentraland-nft-estates-dataset-2022)\n",
    "    - Covers virtual real estate data in 2022 only."
   ]
  },
  {
   "cell_type": "markdown",
   "id": "b95eef46-0cf0-44e4-8a6c-09328ae37082",
   "metadata": {},
   "source": [
    "#### Related Research"
   ]
  },
  {
   "cell_type": "markdown",
   "id": "568776b2-f790-4a5a-9e3e-148b51c0a082",
   "metadata": {},
   "source": [
    "- Metaverse in Real Estate Market - [Precedence Research](https://www.precedenceresearch.com/metaverse-in-real-estate-market)\n",
    "- Real Estate in the Metaverse - [Politecnico](https://www.politesi.polimi.it/handle/10589/201680)\n",
    "- Digital real estate in the metaverse: An empirical analysis of retail investor motivations - [ScienceDirect](https://www.sciencedirect.com/science/article/abs/pii/S1544612323006712)"
   ]
  },
  {
   "cell_type": "markdown",
   "id": "a13bebcf-a2f5-4c7e-912e-ff3393ffbc00",
   "metadata": {},
   "source": [
    "### Dictionary"
   ]
  },
  {
   "cell_type": "markdown",
   "id": "af28edf8-5da8-4bfb-8daa-abd2f3c5bd6e",
   "metadata": {},
   "source": [
    "- **House Price Index (HPI)**: a house price index measures the price changes of residential housing as a percentage change from some specific start date (which has an HPI of 100). [[7]](https://en.wikipedia.org/wiki/House_price_index)\n",
    "- **Personal Disposable Income (PDI)**: the income that's left after people pay their taxes is disposable personal income, also known as after-tax income. It's the amount that residents are able to spend, save, or invest. This number is important not just to individuals' well-being but also to the whole economy. [[8]](https://www.bea.gov/resources/learning-center/what-to-know-income-saving)\n",
    "- **Base Year Value**: the value assigned to a specific year in the dataset, chosen as a reference point for comparison.\n",
    "- **Nominal Value**: a value measured in terms of absolute money amounts. [[9]](https://en.wikipedia.org/wiki/Real_and_nominal_value)\n",
    "- **Decentraland**: a 3D virtual world browser-based platform. Users may buy virtual plots of land in the platform as NFTs via the MANA cryptocurrency. Designers can create and sell clothes and accessories for the avatars to be used in the virtual world. [[10]](https://en.wikipedia.org/wiki/Decentraland)\n",
    "- **Parcel**: a plot of virtual land that can be bought, sold, leased, or developed. These parcels are similar to real-world land, but are represented by digital constructs, such as 3D spaces or immersive environments. [[11]](https://program-ace.com/blog/metaverse-real-estate/#:~:text=Much%20like%20our%20physical%20world,spaces%20to%20intricate%2C%20immersive%20environments.)\n",
    "- **MANA**: a digital asset token used to pay for goods and services in Decentraland. It is built on Ethereum and can be bought and sold for fiat currency or other digital currencies. [[12]](https://www.gemini.com/prices/decentraland)\n",
    "- **wei**: $1 \\,\\, \\text{MANA} = 10^{18} \\,\\, \\text{wei}$"
   ]
  },
  {
   "cell_type": "markdown",
   "id": "601f2a20-94ae-4e77-94f6-a7e2abe3a15b",
   "metadata": {},
   "source": [
    "### Libraries & Functions"
   ]
  },
  {
   "cell_type": "code",
   "execution_count": 1,
   "id": "81bf8ecc-3725-441f-8f58-cd51687316e8",
   "metadata": {},
   "outputs": [],
   "source": [
    "#import libraries and modules\n",
    "import pandas as pd\n",
    "import matplotlib.pyplot as plt\n",
    "import numpy as np\n",
    "import requests\n",
    "import json\n",
    "import os\n",
    "import time\n",
    "from transformers import AutoTokenizer, AutoModelForSequenceClassification\n",
    "import warnings"
   ]
  },
  {
   "cell_type": "markdown",
   "id": "97cb23c1-a33a-4931-b497-992ae463f8f5",
   "metadata": {},
   "source": [
    "The following functions read and write .csv files with proper error handling. They will be used throughout the notebook."
   ]
  },
  {
   "cell_type": "code",
   "execution_count": 2,
   "id": "65f6b48a-95b2-4e70-a3ae-2b3fb7411adf",
   "metadata": {},
   "outputs": [],
   "source": [
    "#load data from a .csv file\n",
    "def load_csv(file_path):\n",
    "    try:\n",
    "        return pd.read_csv(file_path)\n",
    "    except FileNotFoundError:\n",
    "        print(f\"Error: .csv file not found at {file_path}\")\n",
    "        return None\n",
    "    except pd.errors.EmptyDataError:\n",
    "        print(f\"Error: Empty .csv file at {file_path}\")\n",
    "        return None\n",
    "    except pd.errors.ParserError as e:\n",
    "        print(f\"Error: Parsing .csv file at {file_path} failed - {e}\")\n",
    "        return None\n",
    "#save data to a .csv file\n",
    "def save_csv(data, file_path):\n",
    "    try:\n",
    "        data.to_csv(file_path, index=False)\n",
    "        print(f\"Data saved to: {file_path}\")\n",
    "        return True\n",
    "    except Exception as e:\n",
    "        print(f\"Error: Failed to save .csv file to {file_path} - {e}\")\n",
    "        return False"
   ]
  },
  {
   "cell_type": "markdown",
   "id": "cfe05815-61bb-498f-9c8f-b56de12a3efe",
   "metadata": {},
   "source": [
    "If you have installed all packages using the `requirements.txt`, the `transformer` package will flag a `future warning` during the sentiment analysis that can be ignored, you can ignore this by leaving the code below uncommented. If you need to fix the warning, go to `.../metarealestate/lib/python3.12/site-packages/transformers/utils/hub.py`, comment out or remove line 409: `resume_download=resume_download`. `resume_download` is a depreciated arguement in the `huggingface_hub` package. It does not need to be replaced."
   ]
  },
  {
   "cell_type": "code",
   "execution_count": 3,
   "id": "72d2b92c-0ffa-4722-ad9f-8f84ac4973c7",
   "metadata": {},
   "outputs": [],
   "source": [
    "#ignore future warnings\n",
    "warnings.filterwarnings(\"ignore\", category=FutureWarning, module=\"huggingface_hub\")"
   ]
  },
  {
   "cell_type": "markdown",
   "id": "43e164a3-0fb5-4c29-a1db-faed99287205",
   "metadata": {},
   "source": [
    "## Global Real Estate (International House Price Database)"
   ]
  },
  {
   "cell_type": "markdown",
   "id": "f6cd8994-e586-4adf-b0d7-7c6e2fce7f86",
   "metadata": {},
   "source": [
    "Both the HPI and PDI values are available for many countries from 1975 to 2023. Each year is also broken down in four quarters."
   ]
  },
  {
   "cell_type": "markdown",
   "id": "a269b99b-c146-4b81-8c54-b8df83c445d8",
   "metadata": {},
   "source": [
    "### Loading and cleaning IHPD"
   ]
  },
  {
   "cell_type": "markdown",
   "id": "c32ee34f-5c25-4338-99fe-45edaadd2301",
   "metadata": {},
   "source": [
    "The IHPD data was in the form of an Excel Workbook and was converted to seprate worksheets in .csv format prior to being loaded into the application. \\\n",
    "Here we load in both the HPI and PDI data from their .csv files and check the data."
   ]
  },
  {
   "cell_type": "code",
   "execution_count": 4,
   "id": "493d74d4-7193-4832-8e33-bffb968fc1e7",
   "metadata": {},
   "outputs": [
    {
     "data": {
      "text/html": [
       "<div>\n",
       "<style scoped>\n",
       "    .dataframe tbody tr th:only-of-type {\n",
       "        vertical-align: middle;\n",
       "    }\n",
       "\n",
       "    .dataframe tbody tr th {\n",
       "        vertical-align: top;\n",
       "    }\n",
       "\n",
       "    .dataframe thead th {\n",
       "        text-align: right;\n",
       "    }\n",
       "</style>\n",
       "<table border=\"1\" class=\"dataframe\">\n",
       "  <thead>\n",
       "    <tr style=\"text-align: right;\">\n",
       "      <th></th>\n",
       "      <th></th>\n",
       "      <th>Australia</th>\n",
       "      <th>Belgium</th>\n",
       "      <th>Canada</th>\n",
       "      <th>Switzerland</th>\n",
       "      <th>Germany</th>\n",
       "      <th>Denmark</th>\n",
       "      <th>Spain</th>\n",
       "      <th>Finland</th>\n",
       "      <th>France</th>\n",
       "      <th>...</th>\n",
       "      <th>US</th>\n",
       "      <th>S. Africa</th>\n",
       "      <th>Croatia</th>\n",
       "      <th>Israel</th>\n",
       "      <th>Slovenia</th>\n",
       "      <th>Colombia</th>\n",
       "      <th>Portugal</th>\n",
       "      <th>Unnamed: 27</th>\n",
       "      <th>Aggregate - 2005 Fixed Weights</th>\n",
       "      <th>Aggregate - Dynamic Weights</th>\n",
       "    </tr>\n",
       "  </thead>\n",
       "  <tbody>\n",
       "    <tr>\n",
       "      <th>0</th>\n",
       "      <td>NaN</td>\n",
       "      <td>NaN</td>\n",
       "      <td>NaN</td>\n",
       "      <td>NaN</td>\n",
       "      <td>NaN</td>\n",
       "      <td>NaN</td>\n",
       "      <td>NaN</td>\n",
       "      <td>NaN</td>\n",
       "      <td>NaN</td>\n",
       "      <td>NaN</td>\n",
       "      <td>...</td>\n",
       "      <td>NaN</td>\n",
       "      <td>NaN</td>\n",
       "      <td>NaN</td>\n",
       "      <td>NaN</td>\n",
       "      <td>NaN</td>\n",
       "      <td>NaN</td>\n",
       "      <td>NaN</td>\n",
       "      <td>NaN</td>\n",
       "      <td>NaN</td>\n",
       "      <td>NaN</td>\n",
       "    </tr>\n",
       "    <tr>\n",
       "      <th>1</th>\n",
       "      <td>1975:Q1</td>\n",
       "      <td>7.59</td>\n",
       "      <td>15.18</td>\n",
       "      <td>16.23</td>\n",
       "      <td>48.83</td>\n",
       "      <td>51.99</td>\n",
       "      <td>15.77</td>\n",
       "      <td>8.67</td>\n",
       "      <td>13.49</td>\n",
       "      <td>11.10</td>\n",
       "      <td>...</td>\n",
       "      <td>17.19</td>\n",
       "      <td>3.56</td>\n",
       "      <td>0.0</td>\n",
       "      <td>0.0</td>\n",
       "      <td>0.0</td>\n",
       "      <td>1.54</td>\n",
       "      <td>3.30</td>\n",
       "      <td>NaN</td>\n",
       "      <td>22.24</td>\n",
       "      <td>22.93</td>\n",
       "    </tr>\n",
       "    <tr>\n",
       "      <th>2</th>\n",
       "      <td>1975:Q2</td>\n",
       "      <td>7.75</td>\n",
       "      <td>15.93</td>\n",
       "      <td>16.45</td>\n",
       "      <td>48.19</td>\n",
       "      <td>52.60</td>\n",
       "      <td>16.19</td>\n",
       "      <td>9.71</td>\n",
       "      <td>13.64</td>\n",
       "      <td>11.50</td>\n",
       "      <td>...</td>\n",
       "      <td>17.39</td>\n",
       "      <td>3.63</td>\n",
       "      <td>0.0</td>\n",
       "      <td>0.0</td>\n",
       "      <td>0.0</td>\n",
       "      <td>1.55</td>\n",
       "      <td>3.48</td>\n",
       "      <td>NaN</td>\n",
       "      <td>22.51</td>\n",
       "      <td>23.19</td>\n",
       "    </tr>\n",
       "    <tr>\n",
       "      <th>3</th>\n",
       "      <td>1975:Q3</td>\n",
       "      <td>8.05</td>\n",
       "      <td>16.65</td>\n",
       "      <td>17.16</td>\n",
       "      <td>47.73</td>\n",
       "      <td>53.25</td>\n",
       "      <td>17.00</td>\n",
       "      <td>9.91</td>\n",
       "      <td>13.83</td>\n",
       "      <td>11.91</td>\n",
       "      <td>...</td>\n",
       "      <td>17.50</td>\n",
       "      <td>3.64</td>\n",
       "      <td>0.0</td>\n",
       "      <td>0.0</td>\n",
       "      <td>0.0</td>\n",
       "      <td>1.58</td>\n",
       "      <td>3.66</td>\n",
       "      <td>NaN</td>\n",
       "      <td>22.75</td>\n",
       "      <td>23.43</td>\n",
       "    </tr>\n",
       "    <tr>\n",
       "      <th>4</th>\n",
       "      <td>1975:Q4</td>\n",
       "      <td>8.29</td>\n",
       "      <td>17.57</td>\n",
       "      <td>17.40</td>\n",
       "      <td>47.14</td>\n",
       "      <td>53.96</td>\n",
       "      <td>17.14</td>\n",
       "      <td>10.65</td>\n",
       "      <td>14.20</td>\n",
       "      <td>12.39</td>\n",
       "      <td>...</td>\n",
       "      <td>17.84</td>\n",
       "      <td>3.72</td>\n",
       "      <td>0.0</td>\n",
       "      <td>0.0</td>\n",
       "      <td>0.0</td>\n",
       "      <td>1.62</td>\n",
       "      <td>3.86</td>\n",
       "      <td>NaN</td>\n",
       "      <td>23.10</td>\n",
       "      <td>23.77</td>\n",
       "    </tr>\n",
       "  </tbody>\n",
       "</table>\n",
       "<p>5 rows × 30 columns</p>\n",
       "</div>"
      ],
      "text/plain": [
       "            Australia  Belgium  Canada  Switzerland  Germany  Denmark  Spain  \\\n",
       "0      NaN        NaN      NaN     NaN          NaN      NaN      NaN    NaN   \n",
       "1  1975:Q1       7.59    15.18   16.23        48.83    51.99    15.77   8.67   \n",
       "2  1975:Q2       7.75    15.93   16.45        48.19    52.60    16.19   9.71   \n",
       "3  1975:Q3       8.05    16.65   17.16        47.73    53.25    17.00   9.91   \n",
       "4  1975:Q4       8.29    17.57   17.40        47.14    53.96    17.14  10.65   \n",
       "\n",
       "   Finland  France  ...     US  S. Africa  Croatia  Israel  Slovenia  \\\n",
       "0      NaN     NaN  ...    NaN        NaN      NaN     NaN       NaN   \n",
       "1    13.49   11.10  ...  17.19       3.56      0.0     0.0       0.0   \n",
       "2    13.64   11.50  ...  17.39       3.63      0.0     0.0       0.0   \n",
       "3    13.83   11.91  ...  17.50       3.64      0.0     0.0       0.0   \n",
       "4    14.20   12.39  ...  17.84       3.72      0.0     0.0       0.0   \n",
       "\n",
       "   Colombia  Portugal  Unnamed: 27  Aggregate - 2005 Fixed Weights  \\\n",
       "0       NaN       NaN          NaN                             NaN   \n",
       "1      1.54      3.30          NaN                           22.24   \n",
       "2      1.55      3.48          NaN                           22.51   \n",
       "3      1.58      3.66          NaN                           22.75   \n",
       "4      1.62      3.86          NaN                           23.10   \n",
       "\n",
       "   Aggregate - Dynamic Weights  \n",
       "0                          NaN  \n",
       "1                        22.93  \n",
       "2                        23.19  \n",
       "3                        23.43  \n",
       "4                        23.77  \n",
       "\n",
       "[5 rows x 30 columns]"
      ]
     },
     "execution_count": 4,
     "metadata": {},
     "output_type": "execute_result"
    }
   ],
   "source": [
    "#load HPI and PDI data\n",
    "HPI_data = load_csv('data/IHPD-FRBD/HPI.csv')\n",
    "PDI_data = load_csv('data/IHPD-FRBD/PDI.csv')\n",
    "#check\n",
    "HPI_data.head()"
   ]
  },
  {
   "cell_type": "markdown",
   "id": "693c5f53-2992-4714-9971-5a2ddc2919bd",
   "metadata": {},
   "source": [
    "As you can see, there is an empty row at index 0 that that is filled with `NA / NaN` values and needs to be dropped. At the far right, there is another empty column and two others called `'Aggregate - 2005 Fixed Weights'` and `'Aggregate - Dynamic Weights'` that can also be dropped. Their use is out of the scope of this analysis. Another thing we can do in order to better organize the data is to change the index to the first column, which separates the rows by years divided into four quarters."
   ]
  },
  {
   "cell_type": "code",
   "execution_count": 5,
   "id": "bca4e53a-094d-46d3-a0b2-99ae446a477c",
   "metadata": {},
   "outputs": [],
   "source": [
    "#remove futile rows and columns and set the index\n",
    "def clean_data(data):\n",
    "    #drop empty row\n",
    "    data.drop(index=0, inplace=True)\n",
    "    #drop unnecessary columns\n",
    "    columns_to_drop = ['Aggregate - Dynamic Weights', 'Aggregate - 2005 Fixed Weights', 'Unnamed: 27']\n",
    "    data.drop(columns=columns_to_drop, inplace=True)\n",
    "    #set the first column as the index\n",
    "    data.set_index(data.columns[0], inplace=True)\n",
    "\n",
    "#clean HPI & PDI data\n",
    "clean_data(HPI_data)\n",
    "clean_data(PDI_data)"
   ]
  },
  {
   "cell_type": "markdown",
   "id": "fed776de-794f-4454-a6b4-a6bd90a32a64",
   "metadata": {},
   "source": [
    "We check the data to see if our data is clean and ready for processing"
   ]
  },
  {
   "cell_type": "code",
   "execution_count": 6,
   "id": "ea285d43-b19a-42bf-b983-815733df578e",
   "metadata": {},
   "outputs": [
    {
     "data": {
      "text/html": [
       "<div>\n",
       "<style scoped>\n",
       "    .dataframe tbody tr th:only-of-type {\n",
       "        vertical-align: middle;\n",
       "    }\n",
       "\n",
       "    .dataframe tbody tr th {\n",
       "        vertical-align: top;\n",
       "    }\n",
       "\n",
       "    .dataframe thead th {\n",
       "        text-align: right;\n",
       "    }\n",
       "</style>\n",
       "<table border=\"1\" class=\"dataframe\">\n",
       "  <thead>\n",
       "    <tr style=\"text-align: right;\">\n",
       "      <th></th>\n",
       "      <th>Australia</th>\n",
       "      <th>Belgium</th>\n",
       "      <th>Canada</th>\n",
       "      <th>Switzerland</th>\n",
       "      <th>Germany</th>\n",
       "      <th>Denmark</th>\n",
       "      <th>Spain</th>\n",
       "      <th>Finland</th>\n",
       "      <th>France</th>\n",
       "      <th>UK</th>\n",
       "      <th>...</th>\n",
       "      <th>Norway</th>\n",
       "      <th>New Zealand</th>\n",
       "      <th>Sweden</th>\n",
       "      <th>US</th>\n",
       "      <th>S. Africa</th>\n",
       "      <th>Croatia</th>\n",
       "      <th>Israel</th>\n",
       "      <th>Slovenia</th>\n",
       "      <th>Colombia</th>\n",
       "      <th>Portugal</th>\n",
       "    </tr>\n",
       "    <tr>\n",
       "      <th></th>\n",
       "      <th></th>\n",
       "      <th></th>\n",
       "      <th></th>\n",
       "      <th></th>\n",
       "      <th></th>\n",
       "      <th></th>\n",
       "      <th></th>\n",
       "      <th></th>\n",
       "      <th></th>\n",
       "      <th></th>\n",
       "      <th></th>\n",
       "      <th></th>\n",
       "      <th></th>\n",
       "      <th></th>\n",
       "      <th></th>\n",
       "      <th></th>\n",
       "      <th></th>\n",
       "      <th></th>\n",
       "      <th></th>\n",
       "      <th></th>\n",
       "      <th></th>\n",
       "    </tr>\n",
       "  </thead>\n",
       "  <tbody>\n",
       "    <tr>\n",
       "      <th>1975:Q1</th>\n",
       "      <td>7.59</td>\n",
       "      <td>15.18</td>\n",
       "      <td>16.23</td>\n",
       "      <td>48.83</td>\n",
       "      <td>51.99</td>\n",
       "      <td>15.77</td>\n",
       "      <td>8.67</td>\n",
       "      <td>13.49</td>\n",
       "      <td>11.10</td>\n",
       "      <td>5.92</td>\n",
       "      <td>...</td>\n",
       "      <td>13.37</td>\n",
       "      <td>7.39</td>\n",
       "      <td>14.58</td>\n",
       "      <td>17.19</td>\n",
       "      <td>3.56</td>\n",
       "      <td>0.0</td>\n",
       "      <td>0.0</td>\n",
       "      <td>0.0</td>\n",
       "      <td>1.54</td>\n",
       "      <td>3.30</td>\n",
       "    </tr>\n",
       "    <tr>\n",
       "      <th>1975:Q2</th>\n",
       "      <td>7.75</td>\n",
       "      <td>15.93</td>\n",
       "      <td>16.45</td>\n",
       "      <td>48.19</td>\n",
       "      <td>52.60</td>\n",
       "      <td>16.19</td>\n",
       "      <td>9.71</td>\n",
       "      <td>13.64</td>\n",
       "      <td>11.50</td>\n",
       "      <td>6.03</td>\n",
       "      <td>...</td>\n",
       "      <td>13.48</td>\n",
       "      <td>7.43</td>\n",
       "      <td>15.06</td>\n",
       "      <td>17.39</td>\n",
       "      <td>3.63</td>\n",
       "      <td>0.0</td>\n",
       "      <td>0.0</td>\n",
       "      <td>0.0</td>\n",
       "      <td>1.55</td>\n",
       "      <td>3.48</td>\n",
       "    </tr>\n",
       "    <tr>\n",
       "      <th>1975:Q3</th>\n",
       "      <td>8.05</td>\n",
       "      <td>16.65</td>\n",
       "      <td>17.16</td>\n",
       "      <td>47.73</td>\n",
       "      <td>53.25</td>\n",
       "      <td>17.00</td>\n",
       "      <td>9.91</td>\n",
       "      <td>13.83</td>\n",
       "      <td>11.91</td>\n",
       "      <td>6.15</td>\n",
       "      <td>...</td>\n",
       "      <td>13.72</td>\n",
       "      <td>7.53</td>\n",
       "      <td>15.59</td>\n",
       "      <td>17.50</td>\n",
       "      <td>3.64</td>\n",
       "      <td>0.0</td>\n",
       "      <td>0.0</td>\n",
       "      <td>0.0</td>\n",
       "      <td>1.58</td>\n",
       "      <td>3.66</td>\n",
       "    </tr>\n",
       "    <tr>\n",
       "      <th>1975:Q4</th>\n",
       "      <td>8.29</td>\n",
       "      <td>17.57</td>\n",
       "      <td>17.40</td>\n",
       "      <td>47.14</td>\n",
       "      <td>53.96</td>\n",
       "      <td>17.14</td>\n",
       "      <td>10.65</td>\n",
       "      <td>14.20</td>\n",
       "      <td>12.39</td>\n",
       "      <td>6.25</td>\n",
       "      <td>...</td>\n",
       "      <td>14.16</td>\n",
       "      <td>7.68</td>\n",
       "      <td>16.17</td>\n",
       "      <td>17.84</td>\n",
       "      <td>3.72</td>\n",
       "      <td>0.0</td>\n",
       "      <td>0.0</td>\n",
       "      <td>0.0</td>\n",
       "      <td>1.62</td>\n",
       "      <td>3.86</td>\n",
       "    </tr>\n",
       "    <tr>\n",
       "      <th>1976:Q1</th>\n",
       "      <td>8.57</td>\n",
       "      <td>18.74</td>\n",
       "      <td>17.64</td>\n",
       "      <td>46.43</td>\n",
       "      <td>54.74</td>\n",
       "      <td>17.64</td>\n",
       "      <td>10.72</td>\n",
       "      <td>14.42</td>\n",
       "      <td>12.89</td>\n",
       "      <td>6.45</td>\n",
       "      <td>...</td>\n",
       "      <td>14.14</td>\n",
       "      <td>7.83</td>\n",
       "      <td>16.73</td>\n",
       "      <td>18.04</td>\n",
       "      <td>3.79</td>\n",
       "      <td>0.0</td>\n",
       "      <td>0.0</td>\n",
       "      <td>0.0</td>\n",
       "      <td>1.68</td>\n",
       "      <td>4.09</td>\n",
       "    </tr>\n",
       "  </tbody>\n",
       "</table>\n",
       "<p>5 rows × 26 columns</p>\n",
       "</div>"
      ],
      "text/plain": [
       "         Australia  Belgium  Canada  Switzerland  Germany  Denmark  Spain  \\\n",
       "                                                                            \n",
       "1975:Q1       7.59    15.18   16.23        48.83    51.99    15.77   8.67   \n",
       "1975:Q2       7.75    15.93   16.45        48.19    52.60    16.19   9.71   \n",
       "1975:Q3       8.05    16.65   17.16        47.73    53.25    17.00   9.91   \n",
       "1975:Q4       8.29    17.57   17.40        47.14    53.96    17.14  10.65   \n",
       "1976:Q1       8.57    18.74   17.64        46.43    54.74    17.64  10.72   \n",
       "\n",
       "         Finland  France    UK  ...  Norway  New Zealand  Sweden     US  \\\n",
       "                                ...                                       \n",
       "1975:Q1    13.49   11.10  5.92  ...   13.37         7.39   14.58  17.19   \n",
       "1975:Q2    13.64   11.50  6.03  ...   13.48         7.43   15.06  17.39   \n",
       "1975:Q3    13.83   11.91  6.15  ...   13.72         7.53   15.59  17.50   \n",
       "1975:Q4    14.20   12.39  6.25  ...   14.16         7.68   16.17  17.84   \n",
       "1976:Q1    14.42   12.89  6.45  ...   14.14         7.83   16.73  18.04   \n",
       "\n",
       "         S. Africa  Croatia  Israel  Slovenia  Colombia  Portugal  \n",
       "                                                                   \n",
       "1975:Q1       3.56      0.0     0.0       0.0      1.54      3.30  \n",
       "1975:Q2       3.63      0.0     0.0       0.0      1.55      3.48  \n",
       "1975:Q3       3.64      0.0     0.0       0.0      1.58      3.66  \n",
       "1975:Q4       3.72      0.0     0.0       0.0      1.62      3.86  \n",
       "1976:Q1       3.79      0.0     0.0       0.0      1.68      4.09  \n",
       "\n",
       "[5 rows x 26 columns]"
      ]
     },
     "execution_count": 6,
     "metadata": {},
     "output_type": "execute_result"
    }
   ],
   "source": [
    "#check\n",
    "HPI_data.head()"
   ]
  },
  {
   "cell_type": "markdown",
   "id": "962107eb-f318-4ae7-bccc-f9fa66ede7fe",
   "metadata": {},
   "source": [
    "### House Price Index (HPI)"
   ]
  },
  {
   "cell_type": "markdown",
   "id": "cd1877f3-2251-420d-86ae-e0d7575c3818",
   "metadata": {},
   "source": [
    "Here we're going to plot the HPI values from 1975 till 2023 for a random handful of countries to get an idea of the growth of house prices. In order to fit it all on one graph, I only took the value of the first quarter of every year for each country removing some detail from the graph without effecting what we're trying to show."
   ]
  },
  {
   "cell_type": "code",
   "execution_count": 7,
   "id": "48d84edb-03e4-407c-8f1a-3e6a397c8348",
   "metadata": {},
   "outputs": [
    {
     "data": {
      "image/png": "[encoded data removed]",
      "text/plain": [
       "<Figure size 1200x600 with 1 Axes>"
      ]
     },
     "metadata": {},
     "output_type": "display_data"
    }
   ],
   "source": [
    "#plot HPI data as line graph\n",
    "def plot_hpi_data(data, countries, title='Global HPI'):\n",
    "    #select every fourth index\n",
    "    x_val = data.index[::4]\n",
    "    y_vals = data.loc[::4, countries]\n",
    "    #create plot\n",
    "    plt.figure(figsize=(12, 6))\n",
    "    #plot data for each country\n",
    "    for country in y_vals.columns:\n",
    "        plt.plot(x_val, y_vals[country], marker='.', linestyle='-', label=country)\n",
    "    #labels\n",
    "    plt.xlabel('Quarter')\n",
    "    plt.ylabel('Index')\n",
    "    plt.title(title)\n",
    "    plt.xticks(rotation=90)\n",
    "    #legend\n",
    "    plt.legend()\n",
    "    #plot\n",
    "    plt.show()\n",
    "\n",
    "#countries to plot as an example\n",
    "countries_to_plot = ['Germany', 'US', 'Spain', 'S. Korea', 'France', 'S. Africa']\n",
    "\n",
    "#HPI data by year\n",
    "plot_hpi_data(HPI_data, countries_to_plot)"
   ]
  },
  {
   "cell_type": "markdown",
   "id": "410475cc-1ad1-42c3-899c-511877ab4550",
   "metadata": {},
   "source": [
    "We can see here that pretty much every country's real estate prices have grown quite consistently from 1975 till 2023. A clear trend representing the growth in value of real estate globally."
   ]
  },
  {
   "cell_type": "markdown",
   "id": "a4cbf3ac-87a3-49bd-ada3-fcb7e224e6a2",
   "metadata": {},
   "source": [
    "#### Average price of real estate based off of HPI"
   ]
  },
  {
   "cell_type": "markdown",
   "id": "bb8d09a3-267d-48e8-a792-c1988228f8e5",
   "metadata": {},
   "source": [
    "Based off the HPI, we can derive an average price for real estate in each country during a certain time period with the data we have. The base year is given by the *Federal Reserve Bank of Dallas* as **2005 = 100%**. According to Wikipedia [[13]](https://en.wikipedia.org/wiki/Timeline_of_the_2000s_United_States_housing_bubble#:~:text=2005%3A%20United%20States%20housing%20market,Average%20Home%20Price%20was%20%24283%2C000.) the average house price in the *United States* as of *January (Q1) 2005* was **283,000$**. \\\n",
    "Let's put that value in a variable alongside the HPI value in 2005."
   ]
  },
  {
   "cell_type": "code",
   "execution_count": 8,
   "id": "b16c150c-5494-4c38-9f78-ccd24e99fe47",
   "metadata": {},
   "outputs": [
    {
     "name": "stdout",
     "output_type": "stream",
     "text": [
      "Nominal value (Jan 2005)': 283000\n",
      "HPI value of US (2005 Q1)': 95.8\n"
     ]
    }
   ],
   "source": [
    "#4 (quarters) x 30 (years, from 1975 to 2005) = 120\n",
    "HPI_q1_05 = HPI_data.at[HPI_data.index[120], 'US']\n",
    "#nominal value from January, 2005 in the US (according to Wikipedia)\n",
    "nom_val = 283000\n",
    "print(f\"Nominal value (Jan 2005)': {nom_val}\")\n",
    "print(f\"HPI value of US (2005 Q1)': {HPI_q1_05}\")"
   ]
  },
  {
   "cell_type": "markdown",
   "id": "f4914058-e336-4072-a33c-45c50061c144",
   "metadata": {},
   "source": [
    "First, we need a value for the base year. Once we have that, we can calculate the average price using any HPI value in our dataset. The equation to get the base value is below:"
   ]
  },
  {
   "cell_type": "markdown",
   "id": "0fc0c16d-48c9-4738-843f-63da2b50f353",
   "metadata": {},
   "source": [
    "$$\n",
    "\\text{Base Year Value} = \\frac{\\text{Nominal Value}\\times{100}}{\\text{HPI}}\n",
    "$$\n",
    "$$\n",
    "= \\frac{\\text{283000}\\times{100}}{\\text{95.8}}\n",
    "$$"
   ]
  },
  {
   "cell_type": "code",
   "execution_count": 9,
   "id": "49b0370d-1437-4e9c-96ba-1dfe9c4b4051",
   "metadata": {},
   "outputs": [
    {
     "data": {
      "text/plain": [
       "295407.0981210856"
      ]
     },
     "execution_count": 9,
     "metadata": {},
     "output_type": "execute_result"
    }
   ],
   "source": [
    "#calculate\n",
    "base_year_value = (nom_val * 100) / HPI_q1_05\n",
    "#2005 = 100%\n",
    "base_year_value"
   ]
  },
  {
   "cell_type": "markdown",
   "id": "3d32728d-c3a5-4117-afc2-8e08769bdfdc",
   "metadata": {},
   "source": [
    "The **Base Year Value** real estate in Q1 of 2005 is around **295,400$**. \\\n",
    "Now let's write out the equation that we will use to get the average price for all others countries, every quarter in every year."
   ]
  },
  {
   "cell_type": "markdown",
   "id": "ec1cbda9-e001-4561-9346-14b525479cb6",
   "metadata": {},
   "source": [
    "$$\n",
    "\\text{Average Price} = \\left( \\frac{\\text{HPI}}{100} \\right) \\times \\text{Base Year Value}\n",
    "$$"
   ]
  },
  {
   "cell_type": "code",
   "execution_count": 10,
   "id": "f635c8b5-2284-475b-af61-9324c6934ba2",
   "metadata": {},
   "outputs": [],
   "source": [
    "#convert HPI to average price\n",
    "def HPI_to_avg(index_val, base_val):\n",
    "    return (index_val / 100) * base_val\n",
    "#avergae price data\n",
    "avg_data = HPI_data.apply(lambda col: col.apply(lambda x: round(HPI_to_avg(x, base_year_value), 2)))"
   ]
  },
  {
   "cell_type": "markdown",
   "id": "6a3e8c08-e1d3-4b8c-871e-5395044bfe90",
   "metadata": {},
   "source": [
    "Let's check our data again to see the changes. All values are now in the form of average price are in USD."
   ]
  },
  {
   "cell_type": "code",
   "execution_count": 11,
   "id": "b0b96a4f-458a-440a-af17-68b6aab5c332",
   "metadata": {},
   "outputs": [
    {
     "data": {
      "text/html": [
       "<div>\n",
       "<style scoped>\n",
       "    .dataframe tbody tr th:only-of-type {\n",
       "        vertical-align: middle;\n",
       "    }\n",
       "\n",
       "    .dataframe tbody tr th {\n",
       "        vertical-align: top;\n",
       "    }\n",
       "\n",
       "    .dataframe thead th {\n",
       "        text-align: right;\n",
       "    }\n",
       "</style>\n",
       "<table border=\"1\" class=\"dataframe\">\n",
       "  <thead>\n",
       "    <tr style=\"text-align: right;\">\n",
       "      <th></th>\n",
       "      <th>Australia</th>\n",
       "      <th>Belgium</th>\n",
       "      <th>Canada</th>\n",
       "      <th>Switzerland</th>\n",
       "      <th>Germany</th>\n",
       "      <th>Denmark</th>\n",
       "      <th>Spain</th>\n",
       "      <th>Finland</th>\n",
       "      <th>France</th>\n",
       "      <th>UK</th>\n",
       "      <th>...</th>\n",
       "      <th>Norway</th>\n",
       "      <th>New Zealand</th>\n",
       "      <th>Sweden</th>\n",
       "      <th>US</th>\n",
       "      <th>S. Africa</th>\n",
       "      <th>Croatia</th>\n",
       "      <th>Israel</th>\n",
       "      <th>Slovenia</th>\n",
       "      <th>Colombia</th>\n",
       "      <th>Portugal</th>\n",
       "    </tr>\n",
       "    <tr>\n",
       "      <th></th>\n",
       "      <th></th>\n",
       "      <th></th>\n",
       "      <th></th>\n",
       "      <th></th>\n",
       "      <th></th>\n",
       "      <th></th>\n",
       "      <th></th>\n",
       "      <th></th>\n",
       "      <th></th>\n",
       "      <th></th>\n",
       "      <th></th>\n",
       "      <th></th>\n",
       "      <th></th>\n",
       "      <th></th>\n",
       "      <th></th>\n",
       "      <th></th>\n",
       "      <th></th>\n",
       "      <th></th>\n",
       "      <th></th>\n",
       "      <th></th>\n",
       "      <th></th>\n",
       "    </tr>\n",
       "  </thead>\n",
       "  <tbody>\n",
       "    <tr>\n",
       "      <th>1975:Q1</th>\n",
       "      <td>22421.40</td>\n",
       "      <td>44842.80</td>\n",
       "      <td>47944.57</td>\n",
       "      <td>144247.29</td>\n",
       "      <td>153582.15</td>\n",
       "      <td>46585.70</td>\n",
       "      <td>25611.80</td>\n",
       "      <td>39850.42</td>\n",
       "      <td>32790.19</td>\n",
       "      <td>17488.10</td>\n",
       "      <td>...</td>\n",
       "      <td>39495.93</td>\n",
       "      <td>21830.58</td>\n",
       "      <td>43070.35</td>\n",
       "      <td>50780.48</td>\n",
       "      <td>10516.49</td>\n",
       "      <td>0.0</td>\n",
       "      <td>0.0</td>\n",
       "      <td>0.0</td>\n",
       "      <td>4549.27</td>\n",
       "      <td>9748.43</td>\n",
       "    </tr>\n",
       "    <tr>\n",
       "      <th>1975:Q2</th>\n",
       "      <td>22894.05</td>\n",
       "      <td>47058.35</td>\n",
       "      <td>48594.47</td>\n",
       "      <td>142356.68</td>\n",
       "      <td>155384.13</td>\n",
       "      <td>47826.41</td>\n",
       "      <td>28684.03</td>\n",
       "      <td>40293.53</td>\n",
       "      <td>33971.82</td>\n",
       "      <td>17813.05</td>\n",
       "      <td>...</td>\n",
       "      <td>39820.88</td>\n",
       "      <td>21948.75</td>\n",
       "      <td>44488.31</td>\n",
       "      <td>51371.29</td>\n",
       "      <td>10723.28</td>\n",
       "      <td>0.0</td>\n",
       "      <td>0.0</td>\n",
       "      <td>0.0</td>\n",
       "      <td>4578.81</td>\n",
       "      <td>10280.17</td>\n",
       "    </tr>\n",
       "    <tr>\n",
       "      <th>1975:Q3</th>\n",
       "      <td>23780.27</td>\n",
       "      <td>49185.28</td>\n",
       "      <td>50691.86</td>\n",
       "      <td>140997.81</td>\n",
       "      <td>157304.28</td>\n",
       "      <td>50219.21</td>\n",
       "      <td>29274.84</td>\n",
       "      <td>40854.80</td>\n",
       "      <td>35182.99</td>\n",
       "      <td>18167.54</td>\n",
       "      <td>...</td>\n",
       "      <td>40529.85</td>\n",
       "      <td>22244.15</td>\n",
       "      <td>46053.97</td>\n",
       "      <td>51696.24</td>\n",
       "      <td>10752.82</td>\n",
       "      <td>0.0</td>\n",
       "      <td>0.0</td>\n",
       "      <td>0.0</td>\n",
       "      <td>4667.43</td>\n",
       "      <td>10811.90</td>\n",
       "    </tr>\n",
       "    <tr>\n",
       "      <th>1975:Q4</th>\n",
       "      <td>24489.25</td>\n",
       "      <td>51903.03</td>\n",
       "      <td>51400.84</td>\n",
       "      <td>139254.91</td>\n",
       "      <td>159401.67</td>\n",
       "      <td>50632.78</td>\n",
       "      <td>31460.86</td>\n",
       "      <td>41947.81</td>\n",
       "      <td>36600.94</td>\n",
       "      <td>18462.94</td>\n",
       "      <td>...</td>\n",
       "      <td>41829.65</td>\n",
       "      <td>22687.27</td>\n",
       "      <td>47767.33</td>\n",
       "      <td>52700.63</td>\n",
       "      <td>10989.14</td>\n",
       "      <td>0.0</td>\n",
       "      <td>0.0</td>\n",
       "      <td>0.0</td>\n",
       "      <td>4785.59</td>\n",
       "      <td>11402.71</td>\n",
       "    </tr>\n",
       "    <tr>\n",
       "      <th>1976:Q1</th>\n",
       "      <td>25316.39</td>\n",
       "      <td>55359.29</td>\n",
       "      <td>52109.81</td>\n",
       "      <td>137157.52</td>\n",
       "      <td>161705.85</td>\n",
       "      <td>52109.81</td>\n",
       "      <td>31667.64</td>\n",
       "      <td>42597.70</td>\n",
       "      <td>38077.97</td>\n",
       "      <td>19053.76</td>\n",
       "      <td>...</td>\n",
       "      <td>41770.56</td>\n",
       "      <td>23130.38</td>\n",
       "      <td>49421.61</td>\n",
       "      <td>53291.44</td>\n",
       "      <td>11195.93</td>\n",
       "      <td>0.0</td>\n",
       "      <td>0.0</td>\n",
       "      <td>0.0</td>\n",
       "      <td>4962.84</td>\n",
       "      <td>12082.15</td>\n",
       "    </tr>\n",
       "  </tbody>\n",
       "</table>\n",
       "<p>5 rows × 26 columns</p>\n",
       "</div>"
      ],
      "text/plain": [
       "         Australia   Belgium    Canada  Switzerland    Germany   Denmark  \\\n",
       "                                                                           \n",
       "1975:Q1   22421.40  44842.80  47944.57    144247.29  153582.15  46585.70   \n",
       "1975:Q2   22894.05  47058.35  48594.47    142356.68  155384.13  47826.41   \n",
       "1975:Q3   23780.27  49185.28  50691.86    140997.81  157304.28  50219.21   \n",
       "1975:Q4   24489.25  51903.03  51400.84    139254.91  159401.67  50632.78   \n",
       "1976:Q1   25316.39  55359.29  52109.81    137157.52  161705.85  52109.81   \n",
       "\n",
       "            Spain   Finland    France        UK  ...    Norway  New Zealand  \\\n",
       "                                                 ...                          \n",
       "1975:Q1  25611.80  39850.42  32790.19  17488.10  ...  39495.93     21830.58   \n",
       "1975:Q2  28684.03  40293.53  33971.82  17813.05  ...  39820.88     21948.75   \n",
       "1975:Q3  29274.84  40854.80  35182.99  18167.54  ...  40529.85     22244.15   \n",
       "1975:Q4  31460.86  41947.81  36600.94  18462.94  ...  41829.65     22687.27   \n",
       "1976:Q1  31667.64  42597.70  38077.97  19053.76  ...  41770.56     23130.38   \n",
       "\n",
       "           Sweden        US  S. Africa  Croatia  Israel  Slovenia  Colombia  \\\n",
       "                                                                              \n",
       "1975:Q1  43070.35  50780.48   10516.49      0.0     0.0       0.0   4549.27   \n",
       "1975:Q2  44488.31  51371.29   10723.28      0.0     0.0       0.0   4578.81   \n",
       "1975:Q3  46053.97  51696.24   10752.82      0.0     0.0       0.0   4667.43   \n",
       "1975:Q4  47767.33  52700.63   10989.14      0.0     0.0       0.0   4785.59   \n",
       "1976:Q1  49421.61  53291.44   11195.93      0.0     0.0       0.0   4962.84   \n",
       "\n",
       "         Portugal  \n",
       "                   \n",
       "1975:Q1   9748.43  \n",
       "1975:Q2  10280.17  \n",
       "1975:Q3  10811.90  \n",
       "1975:Q4  11402.71  \n",
       "1976:Q1  12082.15  \n",
       "\n",
       "[5 rows x 26 columns]"
      ]
     },
     "execution_count": 11,
     "metadata": {},
     "output_type": "execute_result"
    }
   ],
   "source": [
    "avg_data.head()"
   ]
  },
  {
   "cell_type": "markdown",
   "id": "57447f9d-49cf-46f0-acd8-871a49e736b5",
   "metadata": {},
   "source": [
    "In order to calculate and see how much real estate has grown globally, we'll have to see the difference between the prices back in 1975 and 2023. We can do this by calculating the mean for each of those years and plotting them alongside the averages on the same bar graph. We will show the mean as dotted line across the graph."
   ]
  },
  {
   "cell_type": "code",
   "execution_count": 12,
   "id": "bfdb7258-b77e-488a-b89c-c0301321e962",
   "metadata": {},
   "outputs": [],
   "source": [
    "#plots first and last values for each country, and prints sum, mean, and standard deviation for both\n",
    "def first_last_graph(data):\n",
    "    #get indices\n",
    "    first_index = data.index[0]\n",
    "    last_index = data.index[-1]\n",
    "    countries = data.columns\n",
    "    #values for indices\n",
    "    first_values = data.loc[first_index, countries]\n",
    "    last_values = data.loc[last_index, countries]\n",
    "    \n",
    "    #calculate sum, mean, and standard deviation\n",
    "    first_sum = round(first_values.sum(), 2) #first\n",
    "    first_mean = round(first_values.mean(), 2)\n",
    "    first_std_dev = round(first_values.std(), 2)\n",
    "    last_sum = round(last_values.sum(), 2) #last\n",
    "    last_mean = round(last_values.mean(), 2)\n",
    "    last_std_dev = round(last_values.std(), 2)\n",
    "    #print calculated values\n",
    "    print(f\"{first_index} - Sum: {first_sum}, Mean: {first_mean}, Standard Deviation: {first_std_dev}\")\n",
    "    print(f\"{last_index} - Sum: {last_sum}, Mean: {last_mean}, Standard Deviation: {last_std_dev}\")\n",
    "    \n",
    "    #plotting\n",
    "    fig, ax = plt.subplots(figsize=(12, 6))\n",
    "    #bar width and positions\n",
    "    bar_width = 0.35\n",
    "    index = np.arange(len(countries))\n",
    "    #bars\n",
    "    bars1 = ax.bar(index, first_values.values, bar_width, label=first_index, color='skyblue')\n",
    "    bars2 = ax.bar(index + bar_width, last_values.values, bar_width, label=last_index, color='salmon')\n",
    "    #mean lines\n",
    "    ax.axhline(first_mean, color='blue', linewidth=2, linestyle='--', label=f'{first_index} Mean: {first_mean:.2f}')\n",
    "    ax.axhline(last_mean, color='red', linewidth=2, linestyle='--', label=f'{last_index} Mean: {last_mean:.2f}')\n",
    "    #labels\n",
    "    ax.set_xlabel('Country')\n",
    "    ax.set_ylabel('USD')\n",
    "    ax.set_title(f'{first_index} vs {last_index}')\n",
    "    ax.set_xticks(index + bar_width / 2)\n",
    "    ax.set_xticklabels(countries, rotation=45)\n",
    "    #legend\n",
    "    ax.legend()\n",
    "    #layout\n",
    "    plt.tight_layout()\n",
    "    #plot\n",
    "    plt.show()"
   ]
  },
  {
   "cell_type": "code",
   "execution_count": 13,
   "id": "c60c52f5-f5d9-4e6b-96e1-cf7e3fcd3d4f",
   "metadata": {},
   "outputs": [
    {
     "name": "stdout",
     "output_type": "stream",
     "text": [
      "1975:Q1 - Sum: 1060363.78, Mean: 40783.22, Standard Deviation: 46431.84\n",
      "2023:Q4 - Sum: 15752406.26, Mean: 605861.78, Standard Deviation: 230676.27\n"
     ]
    },
    {
     "data": {
      "image/png": "[encoded data removed]",
      "text/plain": [
       "<Figure size 1200x600 with 1 Axes>"
      ]
     },
     "metadata": {},
     "output_type": "display_data"
    }
   ],
   "source": [
    "#plot average price data\n",
    "first_last_graph(avg_data)"
   ]
  },
  {
   "cell_type": "markdown",
   "id": "24ba467b-7f08-490e-98ac-b6489fd538c6",
   "metadata": {},
   "source": [
    "Now let's calculate the percentage of growth."
   ]
  },
  {
   "cell_type": "code",
   "execution_count": 14,
   "id": "f368ad86-40c6-4000-b28f-ca8ad5f516f7",
   "metadata": {},
   "outputs": [
    {
     "data": {
      "text/plain": [
       "1011"
      ]
     },
     "execution_count": 14,
     "metadata": {},
     "output_type": "execute_result"
    }
   ],
   "source": [
    "#calculate growth of mean in % from 1975 till 2023\n",
    "mean_growth = (553263.73 * 100) / 49812.67 - 100\n",
    "round(mean_growth) #round to the nearest integer"
   ]
  },
  {
   "cell_type": "markdown",
   "id": "4941d898-7575-4726-9886-ac7aa0d85c54",
   "metadata": {},
   "source": [
    "If we round the means and standards deviation to the nearest thousand we arrive at the following statements:"
   ]
  },
  {
   "cell_type": "markdown",
   "id": "24a54b3d-1bc9-4cf3-8cb3-86e9138487a9",
   "metadata": {},
   "source": [
    "<center><h4>In <b>1975</b>, the average price of a house in developing countries around the globe was <b>41,000\\$</b></h4></center>\n",
    "<center><h4>In <b>2023</b>, the average price of a house in developing countries around the globe was <b>606,000\\$</b></h4></center>\n",
    "<center><h4>The average price of a house grew by <b>1011%</b></h4></center>"
   ]
  },
  {
   "cell_type": "markdown",
   "id": "a27e4880-c4de-4a2d-80d4-8e42f62839a4",
   "metadata": {},
   "source": [
    "### Personal Disposable Income (PDI)"
   ]
  },
  {
   "cell_type": "markdown",
   "id": "f1caaa9c-01db-47ba-8fbc-d50087c7cf2f",
   "metadata": {},
   "source": [
    "Now that we've seen how much the price of real estate has grown, it's time to see if it is affordable by checking how much purchasing power people had and have. \\\n",
    "Again, the base year is given by the *Federal Reserve Bank of Dallas* as **2005 = 100**. According to South Carolina\n",
    "Revenue and Fiscal Affairs Office [[14]](https://rfa.sc.gov/page/total-disposable-personal-income-us-and-southeastern-states-thousands-dollars-2001-2005) the PDI in the *United States* in *2005* was **9,043,159,101,000$**. Let's create a variable for that:"
   ]
  },
  {
   "cell_type": "code",
   "execution_count": 15,
   "id": "cf081715-fba9-46e4-9f49-027eee0145f4",
   "metadata": {},
   "outputs": [],
   "source": [
    "#2005 = 100%\n",
    "base_year_value_PDI = 9043159101000"
   ]
  },
  {
   "cell_type": "markdown",
   "id": "5acec7f9-9f83-4ff3-a193-5e6c40f278d1",
   "metadata": {},
   "source": [
    "Now that we have the base year value, we need to write out the equation that will allow us the convert the PDI to a value. "
   ]
  },
  {
   "cell_type": "markdown",
   "id": "04078208-0e60-42a7-b505-d6401e9579a5",
   "metadata": {},
   "source": [
    "$$\n",
    "\\text{Personal Disposable Value} = \\left( \\frac{\\text{PDI}}{100} \\right) \\times \\text{Base Year Value}\n",
    "$$"
   ]
  },
  {
   "cell_type": "code",
   "execution_count": 16,
   "id": "d1a1ae54-56a4-4a2d-8ac3-f8e24c16cacb",
   "metadata": {},
   "outputs": [],
   "source": [
    "#convert PDI to value instead of index\n",
    "def PDI_to_PDV(index_val, base_val):\n",
    "    return (index_val / 100) * base_val\n",
    "#personal disposable value data\n",
    "PDV_data = PDI_data.apply(lambda col: col.apply(lambda x: round(PDI_to_PDV(x, base_year_value_PDI), 2)))"
   ]
  },
  {
   "cell_type": "markdown",
   "id": "3931aab7-85ab-4bce-b4c4-40abcab0264c",
   "metadata": {},
   "source": [
    "Let's check the data after the changes. All values are now in USD."
   ]
  },
  {
   "cell_type": "code",
   "execution_count": 17,
   "id": "bb3744b9-5795-4c15-bde3-ea15096f4a6f",
   "metadata": {},
   "outputs": [
    {
     "data": {
      "text/html": [
       "<div>\n",
       "<style scoped>\n",
       "    .dataframe tbody tr th:only-of-type {\n",
       "        vertical-align: middle;\n",
       "    }\n",
       "\n",
       "    .dataframe tbody tr th {\n",
       "        vertical-align: top;\n",
       "    }\n",
       "\n",
       "    .dataframe thead th {\n",
       "        text-align: right;\n",
       "    }\n",
       "</style>\n",
       "<table border=\"1\" class=\"dataframe\">\n",
       "  <thead>\n",
       "    <tr style=\"text-align: right;\">\n",
       "      <th></th>\n",
       "      <th>Australia</th>\n",
       "      <th>Belgium</th>\n",
       "      <th>Canada</th>\n",
       "      <th>Switzerland</th>\n",
       "      <th>Germany</th>\n",
       "      <th>Denmark</th>\n",
       "      <th>Spain</th>\n",
       "      <th>Finland</th>\n",
       "      <th>France</th>\n",
       "      <th>UK</th>\n",
       "      <th>...</th>\n",
       "      <th>Norway</th>\n",
       "      <th>New Zealand</th>\n",
       "      <th>Sweden</th>\n",
       "      <th>US</th>\n",
       "      <th>S. Africa</th>\n",
       "      <th>Croatia</th>\n",
       "      <th>Israel</th>\n",
       "      <th>Slovenia</th>\n",
       "      <th>Colombia</th>\n",
       "      <th>Portugal</th>\n",
       "    </tr>\n",
       "    <tr>\n",
       "      <th></th>\n",
       "      <th></th>\n",
       "      <th></th>\n",
       "      <th></th>\n",
       "      <th></th>\n",
       "      <th></th>\n",
       "      <th></th>\n",
       "      <th></th>\n",
       "      <th></th>\n",
       "      <th></th>\n",
       "      <th></th>\n",
       "      <th></th>\n",
       "      <th></th>\n",
       "      <th></th>\n",
       "      <th></th>\n",
       "      <th></th>\n",
       "      <th></th>\n",
       "      <th></th>\n",
       "      <th></th>\n",
       "      <th></th>\n",
       "      <th></th>\n",
       "      <th></th>\n",
       "    </tr>\n",
       "  </thead>\n",
       "  <tbody>\n",
       "    <tr>\n",
       "      <th>1975:Q1</th>\n",
       "      <td>1.299502e+12</td>\n",
       "      <td>2.025668e+12</td>\n",
       "      <td>1.784215e+12</td>\n",
       "      <td>3.372194e+12</td>\n",
       "      <td>2.879342e+12</td>\n",
       "      <td>1.740808e+12</td>\n",
       "      <td>6.339255e+11</td>\n",
       "      <td>1.196410e+12</td>\n",
       "      <td>1.546380e+12</td>\n",
       "      <td>8.600044e+11</td>\n",
       "      <td>...</td>\n",
       "      <td>1.015547e+12</td>\n",
       "      <td>1.002886e+12</td>\n",
       "      <td>1.302215e+12</td>\n",
       "      <td>1.672080e+12</td>\n",
       "      <td>3.147019e+11</td>\n",
       "      <td>0.0</td>\n",
       "      <td>0.0</td>\n",
       "      <td>0.0</td>\n",
       "      <td>3.255537e+10</td>\n",
       "      <td>2.287919e+11</td>\n",
       "    </tr>\n",
       "    <tr>\n",
       "      <th>1975:Q2</th>\n",
       "      <td>1.327536e+12</td>\n",
       "      <td>2.141420e+12</td>\n",
       "      <td>1.843900e+12</td>\n",
       "      <td>3.368577e+12</td>\n",
       "      <td>2.949878e+12</td>\n",
       "      <td>1.816771e+12</td>\n",
       "      <td>6.538204e+11</td>\n",
       "      <td>1.230774e+12</td>\n",
       "      <td>1.589787e+12</td>\n",
       "      <td>8.762821e+11</td>\n",
       "      <td>...</td>\n",
       "      <td>1.067093e+12</td>\n",
       "      <td>1.036346e+12</td>\n",
       "      <td>1.346526e+12</td>\n",
       "      <td>1.762512e+12</td>\n",
       "      <td>3.382142e+11</td>\n",
       "      <td>0.0</td>\n",
       "      <td>0.0</td>\n",
       "      <td>0.0</td>\n",
       "      <td>3.345969e+10</td>\n",
       "      <td>2.324092e+11</td>\n",
       "    </tr>\n",
       "    <tr>\n",
       "      <th>1975:Q3</th>\n",
       "      <td>1.360091e+12</td>\n",
       "      <td>2.246321e+12</td>\n",
       "      <td>1.922576e+12</td>\n",
       "      <td>3.369481e+12</td>\n",
       "      <td>3.005042e+12</td>\n",
       "      <td>1.890925e+12</td>\n",
       "      <td>6.773326e+11</td>\n",
       "      <td>1.263329e+12</td>\n",
       "      <td>1.649472e+12</td>\n",
       "      <td>9.205936e+11</td>\n",
       "      <td>...</td>\n",
       "      <td>1.115926e+12</td>\n",
       "      <td>1.068901e+12</td>\n",
       "      <td>1.389934e+12</td>\n",
       "      <td>1.759799e+12</td>\n",
       "      <td>3.418314e+11</td>\n",
       "      <td>0.0</td>\n",
       "      <td>0.0</td>\n",
       "      <td>0.0</td>\n",
       "      <td>3.526832e+10</td>\n",
       "      <td>2.396437e+11</td>\n",
       "    </tr>\n",
       "    <tr>\n",
       "      <th>1975:Q4</th>\n",
       "      <td>1.399881e+12</td>\n",
       "      <td>2.338561e+12</td>\n",
       "      <td>1.958748e+12</td>\n",
       "      <td>3.373098e+12</td>\n",
       "      <td>3.046640e+12</td>\n",
       "      <td>1.961461e+12</td>\n",
       "      <td>7.044621e+11</td>\n",
       "      <td>1.295885e+12</td>\n",
       "      <td>1.710061e+12</td>\n",
       "      <td>9.486274e+11</td>\n",
       "      <td>...</td>\n",
       "      <td>1.165663e+12</td>\n",
       "      <td>1.101457e+12</td>\n",
       "      <td>1.434245e+12</td>\n",
       "      <td>1.794163e+12</td>\n",
       "      <td>3.617264e+11</td>\n",
       "      <td>0.0</td>\n",
       "      <td>0.0</td>\n",
       "      <td>0.0</td>\n",
       "      <td>3.707695e+10</td>\n",
       "      <td>2.477826e+11</td>\n",
       "    </tr>\n",
       "    <tr>\n",
       "      <th>1976:Q1</th>\n",
       "      <td>1.436054e+12</td>\n",
       "      <td>2.419949e+12</td>\n",
       "      <td>2.004868e+12</td>\n",
       "      <td>3.379429e+12</td>\n",
       "      <td>3.073770e+12</td>\n",
       "      <td>2.031094e+12</td>\n",
       "      <td>7.361132e+11</td>\n",
       "      <td>1.327536e+12</td>\n",
       "      <td>1.732669e+12</td>\n",
       "      <td>1.000173e+12</td>\n",
       "      <td>...</td>\n",
       "      <td>1.212688e+12</td>\n",
       "      <td>1.134012e+12</td>\n",
       "      <td>1.478557e+12</td>\n",
       "      <td>1.827622e+12</td>\n",
       "      <td>3.590134e+11</td>\n",
       "      <td>0.0</td>\n",
       "      <td>0.0</td>\n",
       "      <td>0.0</td>\n",
       "      <td>3.888558e+10</td>\n",
       "      <td>2.595387e+11</td>\n",
       "    </tr>\n",
       "  </tbody>\n",
       "</table>\n",
       "<p>5 rows × 26 columns</p>\n",
       "</div>"
      ],
      "text/plain": [
       "            Australia       Belgium        Canada   Switzerland       Germany  \\\n",
       "                                                                                \n",
       "1975:Q1  1.299502e+12  2.025668e+12  1.784215e+12  3.372194e+12  2.879342e+12   \n",
       "1975:Q2  1.327536e+12  2.141420e+12  1.843900e+12  3.368577e+12  2.949878e+12   \n",
       "1975:Q3  1.360091e+12  2.246321e+12  1.922576e+12  3.369481e+12  3.005042e+12   \n",
       "1975:Q4  1.399881e+12  2.338561e+12  1.958748e+12  3.373098e+12  3.046640e+12   \n",
       "1976:Q1  1.436054e+12  2.419949e+12  2.004868e+12  3.379429e+12  3.073770e+12   \n",
       "\n",
       "              Denmark         Spain       Finland        France            UK  \\\n",
       "                                                                                \n",
       "1975:Q1  1.740808e+12  6.339255e+11  1.196410e+12  1.546380e+12  8.600044e+11   \n",
       "1975:Q2  1.816771e+12  6.538204e+11  1.230774e+12  1.589787e+12  8.762821e+11   \n",
       "1975:Q3  1.890925e+12  6.773326e+11  1.263329e+12  1.649472e+12  9.205936e+11   \n",
       "1975:Q4  1.961461e+12  7.044621e+11  1.295885e+12  1.710061e+12  9.486274e+11   \n",
       "1976:Q1  2.031094e+12  7.361132e+11  1.327536e+12  1.732669e+12  1.000173e+12   \n",
       "\n",
       "         ...        Norway   New Zealand        Sweden            US  \\\n",
       "         ...                                                           \n",
       "1975:Q1  ...  1.015547e+12  1.002886e+12  1.302215e+12  1.672080e+12   \n",
       "1975:Q2  ...  1.067093e+12  1.036346e+12  1.346526e+12  1.762512e+12   \n",
       "1975:Q3  ...  1.115926e+12  1.068901e+12  1.389934e+12  1.759799e+12   \n",
       "1975:Q4  ...  1.165663e+12  1.101457e+12  1.434245e+12  1.794163e+12   \n",
       "1976:Q1  ...  1.212688e+12  1.134012e+12  1.478557e+12  1.827622e+12   \n",
       "\n",
       "            S. Africa  Croatia  Israel  Slovenia      Colombia      Portugal  \n",
       "                                                                              \n",
       "1975:Q1  3.147019e+11      0.0     0.0       0.0  3.255537e+10  2.287919e+11  \n",
       "1975:Q2  3.382142e+11      0.0     0.0       0.0  3.345969e+10  2.324092e+11  \n",
       "1975:Q3  3.418314e+11      0.0     0.0       0.0  3.526832e+10  2.396437e+11  \n",
       "1975:Q4  3.617264e+11      0.0     0.0       0.0  3.707695e+10  2.477826e+11  \n",
       "1976:Q1  3.590134e+11      0.0     0.0       0.0  3.888558e+10  2.595387e+11  \n",
       "\n",
       "[5 rows x 26 columns]"
      ]
     },
     "execution_count": 17,
     "metadata": {},
     "output_type": "execute_result"
    }
   ],
   "source": [
    "PDV_data.head()"
   ]
  },
  {
   "cell_type": "markdown",
   "id": "bd3542f6-aa98-4283-a46c-3b11be7e4b9c",
   "metadata": {},
   "source": [
    "We're going to plot the PDI data utilizing the same methods as before to see the differences in averages and means."
   ]
  },
  {
   "cell_type": "code",
   "execution_count": 18,
   "id": "8ad0b210-fed4-4b7c-ac81-db072fcef7e7",
   "metadata": {},
   "outputs": [
    {
     "name": "stdout",
     "output_type": "stream",
     "text": [
      "1975:Q1 - Sum: 31490992937412.3, Mean: 1211192036054.32, Standard Deviation: 1010640575989.61\n",
      "2023:Q4 - Sum: 443002660776147.6, Mean: 17038563876005.68, Standard Deviation: 3929853919756.51\n"
     ]
    },
    {
     "data": {
      "image/png": "[encoded data removed]",
      "text/plain": [
       "<Figure size 1200x600 with 1 Axes>"
      ]
     },
     "metadata": {},
     "output_type": "display_data"
    }
   ],
   "source": [
    "#plot personal disposable value data\n",
    "first_last_graph(PDV_data)"
   ]
  },
  {
   "cell_type": "markdown",
   "id": "12b57fdc-365f-40d3-8bea-381bfb6b6d79",
   "metadata": {},
   "source": [
    "Let's calculate the percentage of growth."
   ]
  },
  {
   "cell_type": "code",
   "execution_count": 19,
   "id": "3d094b70-c166-426b-8159-cf99a625f430",
   "metadata": {},
   "outputs": [
    {
     "data": {
      "text/plain": [
       "1113"
      ]
     },
     "execution_count": 19,
     "metadata": {},
     "output_type": "execute_result"
    }
   ],
   "source": [
    "#calculate the growth of mean in % from 1975 till 2023\n",
    "mean_growth = (16604144425346.1 * 100) / 1369173605974.45 - 100\n",
    "round(mean_growth) #round to nearest integer"
   ]
  },
  {
   "cell_type": "markdown",
   "id": "01371fcf-6ab6-46a3-971a-8edc5d20ef0a",
   "metadata": {},
   "source": [
    "If we round the means and standards deviation to the nearest one hundred million we arrive at the following statements:"
   ]
  },
  {
   "cell_type": "markdown",
   "id": "c6e34c99-bafe-4446-aae8-dab21b4337ea",
   "metadata": {},
   "source": [
    "<center><h4>In <b>1975</b>, the average PDI value in developing countries around the globe is <b>1.2 trillion\\$</b></h4></center>\n",
    "<center><h4>In <b>2023</b>, the average PDI value in developing countries around the globe is <b>17 trillion\\$</b></h4></center>\n",
    "<center><h4>The average PDI value grew by <b>1113%</b> ... <b>102%</b> more than the growth of the <b>HPI</b></h4></center>"
   ]
  },
  {
   "cell_type": "markdown",
   "id": "58901459-3533-414c-9d99-88fc9670e485",
   "metadata": {},
   "source": [
    "## Metaverse Real Estate (Decentraland LAND API)"
   ]
  },
  {
   "cell_type": "markdown",
   "id": "d4398c32-c2ed-46ff-acb6-7cb28c5e21a0",
   "metadata": {},
   "source": [
    "It's time to compare all this to the virtual world and see how large the difference is in prices. We need to query the Decentraland LAND API in order to get the data we are seeking, which is the current prices of all lands/parcels for sale. We will apply pagination to not overwhelm the server and get blocked in case there are way too many parcels for sale. I've also included a delay between each batch of information."
   ]
  },
  {
   "cell_type": "markdown",
   "id": "8d7a9fc2-7833-46d1-b4c6-4a154a482fb2",
   "metadata": {},
   "source": [
    "### Parcel Prices"
   ]
  },
  {
   "cell_type": "markdown",
   "id": "4914013a-4763-45f6-9744-fd51d4981d72",
   "metadata": {},
   "source": [
    "Note that the process might take anywhere between a few seconds to a few minutes depending on how many results there are. If you don't wish to wait, there is pre-saved data that can be used by uncommenting code below."
   ]
  },
  {
   "cell_type": "code",
   "execution_count": 20,
   "id": "ef86d089-0ffa-45bf-9873-32c1add0c583",
   "metadata": {},
   "outputs": [
    {
     "name": "stdout",
     "output_type": "stream",
     "text": [
      "Processing batch...\n",
      "Processing batch...\n",
      "...Process complete\n"
     ]
    }
   ],
   "source": [
    "#fetch parcels in batches from API endpoint\n",
    "def fetch_parcels(url, batch_size=1000, delay=2):\n",
    "    parcels = []\n",
    "    skip = 0\n",
    "    while True:\n",
    "        #get query\n",
    "        query = generate_query(batch_size, skip)\n",
    "        try:\n",
    "            #POST\n",
    "            response = requests.post(url, json={'query': query})\n",
    "            #check for HTTP errors\n",
    "            response.raise_for_status() \n",
    "            #parse response\n",
    "            data = response.json()\n",
    "            if 'errors' in data:\n",
    "                raise Exception(f\"Query error: {data['errors']}\")\n",
    "            batch = data['data']['nfts']\n",
    "        except requests.exceptions.RequestException as e:\n",
    "            print(f\"Request error: {e}\")\n",
    "            break\n",
    "        except Exception as e:\n",
    "            print(f\"An error occurred: {e}\")\n",
    "            break\n",
    "        \n",
    "        if not batch:\n",
    "            break\n",
    "        \n",
    "        parcels.extend(batch)\n",
    "        skip += batch_size\n",
    "        time.sleep(delay)  #delay before fetching next batch in order not to overwhelm the server\n",
    "        print('Processing batch...')\n",
    "    #flag\n",
    "    print('...Process complete')\n",
    "    return parcels\n",
    "    \n",
    "#generate query for fetching parcels\n",
    "def generate_query(batch_size, skip):\n",
    "    #request (x,y) coordinates and prices of parcels that are for sale\n",
    "    return f\"\"\"\n",
    "    {{\n",
    "      nfts(first: {batch_size},\n",
    "           skip: {skip},\n",
    "           orderBy: searchOrderPrice,\n",
    "           where: {{ category: parcel,\n",
    "                    searchOrderStatus: open,\n",
    "                    searchOrderExpiresAt_gt: 1611082372 }}) {{\n",
    "        parcel {{\n",
    "          x\n",
    "          y\n",
    "        }}\n",
    "        activeOrder {{\n",
    "          price\n",
    "        }}\n",
    "      }}\n",
    "    }}\n",
    "    \"\"\"\n",
    "\n",
    "#API endpoint\n",
    "url = \"https://api.thegraph.com/subgraphs/name/decentraland/marketplace\"\n",
    "\n",
    "#fetch all parcels\n",
    "all_parcels = fetch_parcels(url)"
   ]
  },
  {
   "cell_type": "markdown",
   "id": "4d6d369d-a2d1-4fd9-9471-02dc6f1e8190",
   "metadata": {},
   "source": [
    "The code below creates a backup of the data recieved from the endpoint incase the API is ever down. Don't uncomment this unless you wish to save your own copy of fresh results."
   ]
  },
  {
   "cell_type": "code",
   "execution_count": 21,
   "id": "378006f5-5072-4f98-86d4-97ca0fc5878e",
   "metadata": {},
   "outputs": [],
   "source": [
    "# #path to save .json file\n",
    "# current_directory = os.getcwd()\n",
    "# data_folder_path = os.path.join(current_directory, \"data\")\n",
    "# path = os.path.join(data_folder_path, \"decentraland_data.json\")\n",
    "# #check 'data' directory if it exists\n",
    "# os.makedirs(data_folder_path, exist_ok=True)\n",
    "\n",
    "# #save .json file\n",
    "# def save_json(file_path):\n",
    "#     try:\n",
    "#         with open(file_path, 'w') as json_file:\n",
    "#             json.dump({'parcels': all_parcels}, json_file, indent=4)\n",
    "#             print(f\"Data has been exported to {file_path}\")\n",
    "#     except Exception as e:\n",
    "#         print(f\"Error: Failed to save .json file to {file_path} - {e}\")\n",
    "#         return []\n",
    "        \n",
    "# #save .json to 'data' directory as 'decentraland_data.json'\n",
    "# save_json(path)"
   ]
  },
  {
   "cell_type": "markdown",
   "id": "11e1ca59-68b6-4d2a-8805-6f50af0eb176",
   "metadata": {},
   "source": [
    "You can uncomment the code below in order to load in the backup data that is located in the 'data' directory. Last backup: 06/16/2024."
   ]
  },
  {
   "cell_type": "code",
   "execution_count": 22,
   "id": "e81416d8-611d-4ce1-9672-0bab48b75263",
   "metadata": {},
   "outputs": [],
   "source": [
    "# #load .json file\n",
    "# def load_json(file_path):\n",
    "#     try:\n",
    "#         with open(file_path, 'r') as json_file:\n",
    "#             data = json.load(json_file)\n",
    "#             return data\n",
    "#     except Exception as e:\n",
    "#         print(f\"Error: Failed to load .json file from {file_path} - {e}\")\n",
    "#         return []\n",
    "        \n",
    "# #load parcel data\n",
    "# parcel_data = load_json('data/decentraland_data.json')"
   ]
  },
  {
   "cell_type": "markdown",
   "id": "abee25d4-a6f8-4f57-b96b-10bf0e5108ec",
   "metadata": {},
   "source": [
    "Let's check our results."
   ]
  },
  {
   "cell_type": "code",
   "execution_count": 23,
   "id": "b12e241e-a515-42ed-98a5-ab4f7c00760f",
   "metadata": {},
   "outputs": [
    {
     "data": {
      "text/plain": [
       "[{'parcel': {'x': '-7', 'y': '-116'},\n",
       "  'activeOrder': {'price': '1099000000000000000000'}},\n",
       " {'parcel': {'x': '131', 'y': '-126'},\n",
       "  'activeOrder': {'price': '1100000000000000000000'}},\n",
       " {'parcel': {'x': '-40', 'y': '-140'},\n",
       "  'activeOrder': {'price': '1200000000000000000000'}},\n",
       " {'parcel': {'x': '139', 'y': '-74'},\n",
       "  'activeOrder': {'price': '1300000000000000000000'}},\n",
       " {'parcel': {'x': '139', 'y': '-73'},\n",
       "  'activeOrder': {'price': '1300000000000000000000'}}]"
      ]
     },
     "execution_count": 23,
     "metadata": {},
     "output_type": "execute_result"
    }
   ],
   "source": [
    "#print first 5 elements\n",
    "all_parcels[:5]"
   ]
  },
  {
   "cell_type": "markdown",
   "id": "ee3020e5-3a96-4baf-a0be-d6edb03332e3",
   "metadata": {},
   "source": [
    "### Exchange Rate (WEI to MANA to USD)"
   ]
  },
  {
   "cell_type": "markdown",
   "id": "9ab8b550-0fb2-4a4e-8bb2-330a5143ae32",
   "metadata": {},
   "source": [
    "All the parcels received are priced in wei, which is a fraction of MANA. \n",
    "$$\n",
    "1 \\,\\, \\text{MANA} = 10^{18} \\,\\, \\text{wei}\n",
    "$$\n",
    "Converting wei to MANA is simple becuase it is fixed and is done using one function below. But converting MANA to USD, a currency we're already working with above is bit a more complicated. Due to its volatility we need to access an API with up-to-date crypto-currency information like CoinGecko [[15]](https://www.coingecko.com/). We will send a query to their free API and use MANA's exchange rate to convert our values to USD."
   ]
  },
  {
   "cell_type": "code",
   "execution_count": 24,
   "id": "37bb244a-0974-4295-be67-d7e1668f2bc7",
   "metadata": {},
   "outputs": [
    {
     "name": "stdout",
     "output_type": "stream",
     "text": [
      "999000000000000000000 Wei is currently: 324.85$\n",
      "The current exchange rate is: 0.325174$\n"
     ]
    }
   ],
   "source": [
    "#convert wei to mana\n",
    "def wei_to_mana(wei):\n",
    "    return wei / 10**18\n",
    "\n",
    "#fetch current exchange rate of mana to usd\n",
    "def get_mana_to_usd_rate():\n",
    "    #API endpoint\n",
    "    url = \"https://api.coingecko.com/api/v3/simple/price\"\n",
    "    #query\n",
    "    params = {\n",
    "        'ids': 'decentraland',\n",
    "        'vs_currencies': 'usd'\n",
    "    }\n",
    "    try:\n",
    "        #GET\n",
    "        response = requests.get(url, params=params)\n",
    "        #check for HTTP errors\n",
    "        response.raise_for_status() \n",
    "        #parse response\n",
    "        data = response.json()\n",
    "        mana_usd = data['decentraland']['usd'] #rate\n",
    "        return mana_usd\n",
    "    except requests.exceptions.RequestException as e:\n",
    "        print(f\"Request error: {e}\")\n",
    "        return None\n",
    "    except KeyError as e:\n",
    "        print(f\"Unexpected response structure: {e}\")\n",
    "        return None\n",
    "\n",
    "#convert wei to usd\n",
    "def wei_to_usd(wei, rate):\n",
    "    if rate is None:\n",
    "        return None\n",
    "    mana = wei_to_mana(wei)\n",
    "    usd_value = mana * rate\n",
    "    return usd_value\n",
    "\n",
    "#example\n",
    "mana_to_usd_rate = get_mana_to_usd_rate()\n",
    "wei_amount = 999000000000000000000\n",
    "usd_amount = wei_to_usd(wei_amount, mana_to_usd_rate)\n",
    "if usd_amount is not None: #print\n",
    "    print(f\"{wei_amount} Wei is currently: {usd_amount:.2f}$\")\n",
    "    print(f\"The current exchange rate is: {mana_to_usd_rate}$\")\n",
    "else:\n",
    "    print(\"Failed to retrieve the exchange rate.\")"
   ]
  },
  {
   "cell_type": "markdown",
   "id": "1e39ad39-cecf-4d97-8fa9-d7cf3a280518",
   "metadata": {},
   "source": [
    "Uncomment the line below if API is non-responsive to intitialize the value of `mana_to_usd_rate`. Leave commented if no error message is displayed."
   ]
  },
  {
   "cell_type": "code",
   "execution_count": 25,
   "id": "5a0fa5cc-627d-4c78-9247-1494a0a73db7",
   "metadata": {},
   "outputs": [],
   "source": [
    "# mana_to_usd_rate = 0.380715 #on 06/16/2023 18:27 (PDT)"
   ]
  },
  {
   "cell_type": "markdown",
   "id": "b68a2749-6233-4cfe-aa2d-13d698bb9105",
   "metadata": {},
   "source": [
    "### Restructure Data"
   ]
  },
  {
   "cell_type": "markdown",
   "id": "6a457e97-0f78-439d-91c5-62fcc8b05cdd",
   "metadata": {},
   "source": [
    "Now that we have our data, it's time we restructure it and store it into a dataframe so we can plot it."
   ]
  },
  {
   "cell_type": "code",
   "execution_count": 26,
   "id": "2e5c092d-95c6-4dec-9c59-c73c9384fc1e",
   "metadata": {},
   "outputs": [
    {
     "data": {
      "text/html": [
       "<div>\n",
       "<style scoped>\n",
       "    .dataframe tbody tr th:only-of-type {\n",
       "        vertical-align: middle;\n",
       "    }\n",
       "\n",
       "    .dataframe tbody tr th {\n",
       "        vertical-align: top;\n",
       "    }\n",
       "\n",
       "    .dataframe thead th {\n",
       "        text-align: right;\n",
       "    }\n",
       "</style>\n",
       "<table border=\"1\" class=\"dataframe\">\n",
       "  <thead>\n",
       "    <tr style=\"text-align: right;\">\n",
       "      <th></th>\n",
       "      <th>(x, y)</th>\n",
       "      <th>price</th>\n",
       "    </tr>\n",
       "  </thead>\n",
       "  <tbody>\n",
       "    <tr>\n",
       "      <th>0</th>\n",
       "      <td>(-7, -116)</td>\n",
       "      <td>357.366226</td>\n",
       "    </tr>\n",
       "    <tr>\n",
       "      <th>1</th>\n",
       "      <td>(131, -126)</td>\n",
       "      <td>357.691400</td>\n",
       "    </tr>\n",
       "    <tr>\n",
       "      <th>2</th>\n",
       "      <td>(-40, -140)</td>\n",
       "      <td>390.208800</td>\n",
       "    </tr>\n",
       "    <tr>\n",
       "      <th>3</th>\n",
       "      <td>(139, -74)</td>\n",
       "      <td>422.726200</td>\n",
       "    </tr>\n",
       "    <tr>\n",
       "      <th>4</th>\n",
       "      <td>(139, -73)</td>\n",
       "      <td>422.726200</td>\n",
       "    </tr>\n",
       "  </tbody>\n",
       "</table>\n",
       "</div>"
      ],
      "text/plain": [
       "        (x, y)       price\n",
       "0   (-7, -116)  357.366226\n",
       "1  (131, -126)  357.691400\n",
       "2  (-40, -140)  390.208800\n",
       "3   (139, -74)  422.726200\n",
       "4   (139, -73)  422.726200"
      ]
     },
     "execution_count": 26,
     "metadata": {},
     "output_type": "execute_result"
    }
   ],
   "source": [
    "#transform so that parcel data fits into two columns: '(x,y)' and 'price'\n",
    "parcel_data = {\n",
    "    '(x, y)': [(int(parcel['parcel']['x']), int(parcel['parcel']['y'])) for parcel in all_parcels],\n",
    "    'price': [wei_to_usd(int(parcel['activeOrder']['price']), mana_to_usd_rate) for parcel in all_parcels]\n",
    "}\n",
    "#create parcel dataframe\n",
    "parcel_df = pd.DataFrame(parcel_data)\n",
    "parcel_df.head()"
   ]
  },
  {
   "cell_type": "markdown",
   "id": "a67f6af7-1b93-4047-a2e1-0427e5e62b7a",
   "metadata": {},
   "source": [
    "### Plot"
   ]
  },
  {
   "cell_type": "markdown",
   "id": "6f956531-f75d-4151-a5f1-3545fdb82952",
   "metadata": {},
   "source": [
    "We're going to plot all the data on a bar graph as is in order to get a first impression of the price distribution. Virtual real estate is not a stable market and some lands might be priced extraordinarily high for giggles."
   ]
  },
  {
   "cell_type": "code",
   "execution_count": 27,
   "id": "27d41667-a24f-4d55-9c54-77a939d59c71",
   "metadata": {},
   "outputs": [
    {
     "data": {
      "image/png": "[encoded data removed]",
      "text/plain": [
       "<Figure size 1000x300 with 1 Axes>"
      ]
     },
     "metadata": {},
     "output_type": "display_data"
    }
   ],
   "source": [
    "#plot prices of parcels\n",
    "def plot_parcels(data):\n",
    "    #extract the 'price' column\n",
    "    prices = data['price']\n",
    "    #plotting\n",
    "    plt.figure(figsize=(10, 3))\n",
    "    plt.bar(data.index, prices, color='skyblue')\n",
    "    plt.ylabel('Price')\n",
    "    plt.title('Parcel Prices')\n",
    "    #labels\n",
    "    plt.tick_params(axis='x', labelbottom=False)\n",
    "    #layout\n",
    "    plt.tight_layout()\n",
    "    #plot\n",
    "    plt.show()\n",
    "    \n",
    "#plot parcel prices\n",
    "plot_parcels(parcel_df)"
   ]
  },
  {
   "cell_type": "markdown",
   "id": "b6ba9704-9539-48d1-b7e4-bfd62c8a81a0",
   "metadata": {},
   "source": [
    "As expected, some lands are priced so high we can't even see any of the other values. To adjust this, I'm choosing *a bias of 1,000,000$* as the cap for how much a parcel can be priced to get a reasonable mean. Now let's filter out any values larger than the bias."
   ]
  },
  {
   "cell_type": "code",
   "execution_count": 28,
   "id": "aaa6ead4-6cf0-4a6f-b792-60063e70acde",
   "metadata": {},
   "outputs": [
    {
     "data": {
      "image/png": "[encoded data removed]",
      "text/plain": [
       "<Figure size 1000x300 with 1 Axes>"
      ]
     },
     "metadata": {},
     "output_type": "display_data"
    }
   ],
   "source": [
    "#bias\n",
    "bias = 10**6\n",
    "#remove values that are extraordinarily high (over 1,000,000 usd)\n",
    "parcel_df_filtered = parcel_df[parcel_df['price'] <= (bias)]\n",
    "#replot\n",
    "plot_parcels(parcel_df_filtered)"
   ]
  },
  {
   "cell_type": "markdown",
   "id": "4a44161b-4c31-48ff-9cf0-ef9a3300875d",
   "metadata": {},
   "source": [
    "Many parcels are still priced much lower than our bias, but lowering the bias anymore will cut off a large number of parcels. We calculate our mean below:"
   ]
  },
  {
   "cell_type": "code",
   "execution_count": 29,
   "id": "d2558929-7b07-4419-9245-831052982a0b",
   "metadata": {},
   "outputs": [
    {
     "name": "stdout",
     "output_type": "stream",
     "text": [
      "Parcel Sum: 43163598.14, Parcel Mean: 26191.50, Parcel Standard Deviation: 79169.58\n"
     ]
    }
   ],
   "source": [
    "#calculate sum, mean and standard deviation\n",
    "parcel_sum = parcel_df_filtered.price.sum()\n",
    "parcel_mean = parcel_df_filtered.price.mean()\n",
    "parcel_std = parcel_df_filtered.price.std()\n",
    "\n",
    "print(f\"Parcel Sum: {parcel_sum:.2f}, Parcel Mean: {parcel_mean:.2f}, Parcel Standard Deviation: {parcel_std:.2f}\")"
   ]
  },
  {
   "cell_type": "markdown",
   "id": "2a4195d1-a313-4827-87bb-e28d80dda5f1",
   "metadata": {},
   "source": [
    "<center><h4>In <b>2024</b>, the average price of virtual real estate in the Decentraland is approximately <b>30,000$</b></h4></center>\n",
    "<center><h6>The term 'approximately' is used here becuase the exchange rate can fluctuate a lot in one year due to volatility</h6></center>"
   ]
  },
  {
   "cell_type": "markdown",
   "id": "69e94540-bf7c-40aa-be78-0d5b78987a18",
   "metadata": {},
   "source": [
    "## Social Media (X)"
   ]
  },
  {
   "cell_type": "markdown",
   "id": "fb67faaa-f3ff-42b1-a9ba-6fbc4683ecd3",
   "metadata": {},
   "source": [
    "50,000 tweets were collected from the platform X using the hashtag **#Metaverse** as a filter. We will further filter these tweets, perform sentiment analysis and location distribution to better understand how people felt about the topic of virtual real estate and where they come form."
   ]
  },
  {
   "cell_type": "markdown",
   "id": "2b1cb174-ef03-4a21-b861-93ef3a20c5bb",
   "metadata": {},
   "source": [
    "### Filter Data"
   ]
  },
  {
   "cell_type": "markdown",
   "id": "f1948350-37aa-4165-9d23-a4825ed54017",
   "metadata": {},
   "source": [
    "Virtual real estate fits right under the umbrella term **'Metaverse'**, but along with a lot of other things that are unrelated to this analysis. The original data was downloaded and filtered again using keywords like: *virtual land, parcel, property, estate, etc.* \\\n",
    "You can leave the code below commented."
   ]
  },
  {
   "cell_type": "code",
   "execution_count": 30,
   "id": "f8b6d9d0-0b31-45c5-ab84-071390de62bc",
   "metadata": {},
   "outputs": [],
   "source": [
    "# #load tweets\n",
    "# metaverse_tweets = load_csv('data/metaverse_tweets.csv')\n",
    "\n",
    "# #keywords for filtering\n",
    "# keywords = [\n",
    "#     'land', 'virtual land', 'virtual real estate', 'estate', 'property',\n",
    "#     'digital real estate', 'digital land', 'real estate', 'parcel', \n",
    "#     '#land', '#virtualland', '#virtualrealestate', '#estate', '#property',  # hashtags\n",
    "#     '#digitalrealestate', '#digitalland', '#realestate', '#parcel'\n",
    "# ]\n",
    "\n",
    "# #filter each tweet based on keywords\n",
    "# filtered_metaverse_tweets = metaverse_tweets[\n",
    "#     metaverse_tweets['text'].str.lower().str.contains('|'.join(keywords))\n",
    "# ].copy() #create a copy instead of view of the original\n",
    "\n",
    "# #save tweets as a new .csv file\n",
    "# save_csv(filtered_metaverse_tweets, 'data/filtered_metaverse_tweets.csv'):"
   ]
  },
  {
   "cell_type": "markdown",
   "id": "ab37749e-a2e7-438a-b82a-986a74eb6b14",
   "metadata": {},
   "source": [
    "There were 50,000 tweets before filtering. Only 500 reamined after filtering. Let's load in those 500 and work with them."
   ]
  },
  {
   "cell_type": "code",
   "execution_count": 31,
   "id": "d394da65-8b54-4536-80ec-916f0e8a2414",
   "metadata": {},
   "outputs": [],
   "source": [
    "#load filtered metaverse tweets\n",
    "metaverse_tweets = load_csv('data/filtered_metaverse_tweets.csv')"
   ]
  },
  {
   "cell_type": "markdown",
   "id": "d7319b58-b7a1-480e-a7a5-4f46c5a368cf",
   "metadata": {},
   "source": [
    "### Sentiment Analysis"
   ]
  },
  {
   "cell_type": "markdown",
   "id": "9d4961d3-d0ea-43e5-b5fa-d6d91b026137",
   "metadata": {},
   "source": [
    "The code below was inspired by Mehran Shakarami [[16]](https://github.com/mehranshakarami/AI_Spectrum/tree/main). **roBERTa** is a model that is trained on ~58 million tweet and finetuned for sentiment anaylsis. [[17]](https://huggingface.co/cardiffnlp/twitter-roberta-base-sentiment) \\\n",
    "For each tweet, we're going to take out usernames and links so that they don't effect our sentiment score. We are then going to run each tweet through the model and produce the output as a dataframe.\n",
    "\n",
    "Note that this process might take anywhere between a few seconds to a few minutes to complete. There are pre-saved results below if you do not wish to wait. This code might also produce a `future warning` due to an awaited update for the `transformer` package."
   ]
  },
  {
   "cell_type": "code",
   "execution_count": 32,
   "id": "214ee63b-44f7-42a8-a681-f329e837d320",
   "metadata": {},
   "outputs": [
    {
     "name": "stdout",
     "output_type": "stream",
     "text": [
      "...analysis complete\n"
     ]
    }
   ],
   "source": [
    "#convert vector of numbers into probability distribution\n",
    "def vec_to_PD(x):\n",
    "    e_x = np.exp(x - np.max(x))\n",
    "    return e_x / e_x.sum()\n",
    "\n",
    "#model and tokenizer\n",
    "roberta = \"cardiffnlp/twitter-roberta-base-sentiment\"\n",
    "model = AutoModelForSequenceClassification.from_pretrained(roberta)\n",
    "tokenizer = AutoTokenizer.from_pretrained(roberta)\n",
    "\n",
    "#list to store results\n",
    "results = []\n",
    "\n",
    "#preprocess tweets\n",
    "for tweet in metaverse_tweets['text']:\n",
    "    #preprocess tweet\n",
    "    tweet_words = []\n",
    "    for word in tweet.split(' '):\n",
    "        if word.startswith('@') and len(word) > 1:\n",
    "            word = ''\n",
    "        elif word.startswith('http'):\n",
    "            word = ''\n",
    "        tweet_words.append(word)\n",
    "    tweet_proc = ' '.join(tweet_words)\n",
    "    #sentiment analysis\n",
    "    encoded_tweet = tokenizer(tweet_proc, return_tensors='pt')\n",
    "    output = model(**encoded_tweet)\n",
    "    #model output\n",
    "    scores = output.logits[0].detach().numpy()\n",
    "    scores = vec_to_PD(scores)\n",
    "    #append scores to results\n",
    "    results.append(scores)\n",
    "\n",
    "#scores\n",
    "metaverse_tweets_with_sentiment = pd.DataFrame(results, columns=['Negative', 'Neutral', 'Positive'])\n",
    "\n",
    "#flag\n",
    "print('...analysis complete')"
   ]
  },
  {
   "cell_type": "markdown",
   "id": "3668d86b-eaa7-4747-8f62-231b31fa6fc5",
   "metadata": {},
   "source": [
    "Uncomment the line below to save your a copy of fresh results."
   ]
  },
  {
   "cell_type": "code",
   "execution_count": 33,
   "id": "e6e0af86-0c19-4c85-b0de-cf153dd3995a",
   "metadata": {},
   "outputs": [],
   "source": [
    "# #save metaverse tweeits with sentiment to .csv file in 'data' directory\n",
    "# save_csv(metaverse_tweets_with_sentiment, 'data/metaverse_tweets_with_sentiment.csv')"
   ]
  },
  {
   "cell_type": "markdown",
   "id": "77cc26db-3d1f-4add-99c2-3bbe6ff3f642",
   "metadata": {},
   "source": [
    "Uncomment the line below to load in a backup of previously generated results. Last backup: 16/06/2024"
   ]
  },
  {
   "cell_type": "code",
   "execution_count": 34,
   "id": "bdd7fe5e-9598-4551-96be-bcf7a25cb627",
   "metadata": {},
   "outputs": [],
   "source": [
    "# #load backup .csv file\n",
    "# metaverse_tweets_with_sentiment = load_csv('data/metaverse_tweets_with_sentiment.csv')"
   ]
  },
  {
   "cell_type": "markdown",
   "id": "e2cfcaed-90a3-4c8f-8f08-035df5ad6a1b",
   "metadata": {},
   "source": [
    "Let's check our results."
   ]
  },
  {
   "cell_type": "code",
   "execution_count": 35,
   "id": "c208cb3c-e9b9-4f2e-95a8-429de40ae09f",
   "metadata": {},
   "outputs": [
    {
     "data": {
      "text/html": [
       "<div>\n",
       "<style scoped>\n",
       "    .dataframe tbody tr th:only-of-type {\n",
       "        vertical-align: middle;\n",
       "    }\n",
       "\n",
       "    .dataframe tbody tr th {\n",
       "        vertical-align: top;\n",
       "    }\n",
       "\n",
       "    .dataframe thead th {\n",
       "        text-align: right;\n",
       "    }\n",
       "</style>\n",
       "<table border=\"1\" class=\"dataframe\">\n",
       "  <thead>\n",
       "    <tr style=\"text-align: right;\">\n",
       "      <th></th>\n",
       "      <th>Negative</th>\n",
       "      <th>Neutral</th>\n",
       "      <th>Positive</th>\n",
       "    </tr>\n",
       "  </thead>\n",
       "  <tbody>\n",
       "    <tr>\n",
       "      <th>0</th>\n",
       "      <td>0.005158</td>\n",
       "      <td>0.166955</td>\n",
       "      <td>0.827887</td>\n",
       "    </tr>\n",
       "    <tr>\n",
       "      <th>1</th>\n",
       "      <td>0.460379</td>\n",
       "      <td>0.407318</td>\n",
       "      <td>0.132303</td>\n",
       "    </tr>\n",
       "    <tr>\n",
       "      <th>2</th>\n",
       "      <td>0.006730</td>\n",
       "      <td>0.407362</td>\n",
       "      <td>0.585908</td>\n",
       "    </tr>\n",
       "    <tr>\n",
       "      <th>3</th>\n",
       "      <td>0.012560</td>\n",
       "      <td>0.505947</td>\n",
       "      <td>0.481493</td>\n",
       "    </tr>\n",
       "    <tr>\n",
       "      <th>4</th>\n",
       "      <td>0.004488</td>\n",
       "      <td>0.169177</td>\n",
       "      <td>0.826335</td>\n",
       "    </tr>\n",
       "  </tbody>\n",
       "</table>\n",
       "</div>"
      ],
      "text/plain": [
       "   Negative   Neutral  Positive\n",
       "0  0.005158  0.166955  0.827887\n",
       "1  0.460379  0.407318  0.132303\n",
       "2  0.006730  0.407362  0.585908\n",
       "3  0.012560  0.505947  0.481493\n",
       "4  0.004488  0.169177  0.826335"
      ]
     },
     "execution_count": 35,
     "metadata": {},
     "output_type": "execute_result"
    }
   ],
   "source": [
    "#check\n",
    "metaverse_tweets_with_sentiment.head()"
   ]
  },
  {
   "cell_type": "markdown",
   "id": "1340eee7-d671-4bec-8da6-97695f370b19",
   "metadata": {},
   "source": [
    "In each row we have three results. We need to go through each row, compare the values in each column and keep the largest value. The largest value will represent the general sentiment value of each tweet."
   ]
  },
  {
   "cell_type": "code",
   "execution_count": 36,
   "id": "055e63f4-ec1b-4ccd-b660-30e1ed0ce44d",
   "metadata": {},
   "outputs": [
    {
     "name": "stdout",
     "output_type": "stream",
     "text": [
      "Negative: 9.97%\n",
      "Neutral: 48.55%\n",
      "Positive: 41.48%\n"
     ]
    }
   ],
   "source": [
    "#calculate %\n",
    "def count_to_perc(count, total):\n",
    "    return (count * 100) / total\n",
    "\n",
    "#score counts\n",
    "negative_count = 0\n",
    "neutral_count = 0\n",
    "positive_count = 0\n",
    "\n",
    "#create new view\n",
    "df = metaverse_tweets_with_sentiment.copy()\n",
    "\n",
    "#compare scores and increment counts\n",
    "for i in range(len(df)):\n",
    "    if df['Negative'][i] < df['Neutral'][i] < df['Positive'][i]:\n",
    "        positive_count += 1\n",
    "    elif df['Negative'][i] < df['Positive'][i]:\n",
    "        neutral_count += 1\n",
    "    else:\n",
    "        negative_count += 1\n",
    "\n",
    "#calculate % for counts \n",
    "total_tweets = len(df)\n",
    "negative_perc = round(count_to_perc(negative_count, total_tweets), 2)\n",
    "neutral_perc = round(count_to_perc(neutral_count, total_tweets), 2)\n",
    "positive_perc = round(count_to_perc(positive_count, total_tweets), 2)\n",
    "print(f'Negative: {negative_perc}%') #results\n",
    "print(f'Neutral: {neutral_perc}%')\n",
    "print(f'Positive: {positive_perc}%')"
   ]
  },
  {
   "cell_type": "markdown",
   "id": "206fcc0b-33e7-4156-8570-11a11cb03f02",
   "metadata": {},
   "source": [
    "We have our results, we can plot them to see them better."
   ]
  },
  {
   "cell_type": "code",
   "execution_count": 37,
   "id": "d96cee64-c777-4992-b787-804676831224",
   "metadata": {},
   "outputs": [
    {
     "data": {
      "image/png": "[encoded data removed]",
      "text/plain": [
       "<Figure size 500x500 with 1 Axes>"
      ]
     },
     "metadata": {},
     "output_type": "display_data"
    }
   ],
   "source": [
    "#plotting\n",
    "labels = ['Negative', 'Neutral', 'Positive'] #x-axis labels\n",
    "percentages = [negative_perc, neutral_perc, positive_perc] #y-axis labels\n",
    "colors = ['red', 'gray', 'green']\n",
    "plt.figure(figsize=(5, 5))\n",
    "plt.bar(labels, percentages, color=colors)\n",
    "plt.ylabel('Percentage')\n",
    "plt.title('Sentiment Distribution')\n",
    "plt.ylim(0, 100)\n",
    "plt.grid(axis='y')\n",
    "#plot\n",
    "plt.show()"
   ]
  },
  {
   "cell_type": "markdown",
   "id": "d427645f-6100-45df-92ed-f27888f6eaed",
   "metadata": {},
   "source": [
    "It is clear here that the majority of tweets are actually neutral. Then we have a large amount that is positive, and a minority of negative tweets."
   ]
  },
  {
   "cell_type": "markdown",
   "id": "524cd17e-6116-4d5c-b9d2-a8c6ef9a5ad7",
   "metadata": {},
   "source": [
    "### User Location"
   ]
  },
  {
   "cell_type": "markdown",
   "id": "ec5cc3fa-4710-46ca-8da4-26bc958e7cef",
   "metadata": {},
   "source": [
    "Lastly, it's important to understand the origins of this sentiment. Each tweet in our original dataset includes the user's location, provided they have added it to their profile at the time of collection. Some users leave this field blank or enter a fictional place. Those who do specify a location might write the name of a country in various ways or mention a city without indicating the country (e.g., Los Angeles, CA). \\\n",
    "I utilized two open-source lists: one of all countries and another of all US states. This enhances accuracy by enabling us to cross-check and identify more locations. Adding a list of major cities worldwide could further refine this process, but it would have minimal impact on our small dataset of 500. \\\n",
    "The data from the .json files is loaded into two lists, and all `NA / NaN` values are removed. We then cross-check each user location with both lists, considering case sensitivity. If a match is found, we add the country to a dictionary and increment its count by one."
   ]
  },
  {
   "cell_type": "code",
   "execution_count": 38,
   "id": "b67f6647-dfdb-42c5-8b7a-50f4ab6d85ad",
   "metadata": {},
   "outputs": [],
   "source": [
    "#load .json file in lower case\n",
    "def load_json(file_path):\n",
    "    try:\n",
    "        with open(file_path, 'r') as file:\n",
    "            data = [element.lower() for element in json.load(file)]\n",
    "            return data\n",
    "    except Exception as e:\n",
    "        print(f\"Error: Failed to load JSON file from {file_path} - {e}\")\n",
    "        return []"
   ]
  },
  {
   "cell_type": "code",
   "execution_count": 39,
   "id": "e903a5f2-a39c-4067-8b05-9ff65b3d9be2",
   "metadata": {},
   "outputs": [
    {
     "data": {
      "text/html": [
       "<div>\n",
       "<style scoped>\n",
       "    .dataframe tbody tr th:only-of-type {\n",
       "        vertical-align: middle;\n",
       "    }\n",
       "\n",
       "    .dataframe tbody tr th {\n",
       "        vertical-align: top;\n",
       "    }\n",
       "\n",
       "    .dataframe thead th {\n",
       "        text-align: right;\n",
       "    }\n",
       "</style>\n",
       "<table border=\"1\" class=\"dataframe\">\n",
       "  <thead>\n",
       "    <tr style=\"text-align: right;\">\n",
       "      <th></th>\n",
       "      <th>country</th>\n",
       "      <th>count</th>\n",
       "    </tr>\n",
       "  </thead>\n",
       "  <tbody>\n",
       "    <tr>\n",
       "      <th>0</th>\n",
       "      <td>USA</td>\n",
       "      <td>128</td>\n",
       "    </tr>\n",
       "    <tr>\n",
       "      <th>1</th>\n",
       "      <td>Philippines</td>\n",
       "      <td>2</td>\n",
       "    </tr>\n",
       "    <tr>\n",
       "      <th>2</th>\n",
       "      <td>Ireland</td>\n",
       "      <td>1</td>\n",
       "    </tr>\n",
       "    <tr>\n",
       "      <th>3</th>\n",
       "      <td>Canada</td>\n",
       "      <td>2</td>\n",
       "    </tr>\n",
       "    <tr>\n",
       "      <th>4</th>\n",
       "      <td>Thailand</td>\n",
       "      <td>4</td>\n",
       "    </tr>\n",
       "    <tr>\n",
       "      <th>5</th>\n",
       "      <td>China</td>\n",
       "      <td>1</td>\n",
       "    </tr>\n",
       "    <tr>\n",
       "      <th>6</th>\n",
       "      <td>Nigeria</td>\n",
       "      <td>6</td>\n",
       "    </tr>\n",
       "    <tr>\n",
       "      <th>7</th>\n",
       "      <td>Indonesia</td>\n",
       "      <td>16</td>\n",
       "    </tr>\n",
       "    <tr>\n",
       "      <th>8</th>\n",
       "      <td>UK</td>\n",
       "      <td>3</td>\n",
       "    </tr>\n",
       "    <tr>\n",
       "      <th>9</th>\n",
       "      <td>Australia</td>\n",
       "      <td>1</td>\n",
       "    </tr>\n",
       "    <tr>\n",
       "      <th>10</th>\n",
       "      <td>Bulgaria</td>\n",
       "      <td>1</td>\n",
       "    </tr>\n",
       "    <tr>\n",
       "      <th>11</th>\n",
       "      <td>Singapore</td>\n",
       "      <td>2</td>\n",
       "    </tr>\n",
       "    <tr>\n",
       "      <th>12</th>\n",
       "      <td>South africa</td>\n",
       "      <td>1</td>\n",
       "    </tr>\n",
       "    <tr>\n",
       "      <th>13</th>\n",
       "      <td>UAE</td>\n",
       "      <td>1</td>\n",
       "    </tr>\n",
       "    <tr>\n",
       "      <th>14</th>\n",
       "      <td>Cyprus</td>\n",
       "      <td>1</td>\n",
       "    </tr>\n",
       "    <tr>\n",
       "      <th>15</th>\n",
       "      <td>India</td>\n",
       "      <td>1</td>\n",
       "    </tr>\n",
       "    <tr>\n",
       "      <th>16</th>\n",
       "      <td>Malaysia</td>\n",
       "      <td>1</td>\n",
       "    </tr>\n",
       "  </tbody>\n",
       "</table>\n",
       "</div>"
      ],
      "text/plain": [
       "         country  count\n",
       "0            USA    128\n",
       "1    Philippines      2\n",
       "2        Ireland      1\n",
       "3         Canada      2\n",
       "4       Thailand      4\n",
       "5          China      1\n",
       "6        Nigeria      6\n",
       "7      Indonesia     16\n",
       "8             UK      3\n",
       "9      Australia      1\n",
       "10      Bulgaria      1\n",
       "11     Singapore      2\n",
       "12  South africa      1\n",
       "13           UAE      1\n",
       "14        Cyprus      1\n",
       "15         India      1\n",
       "16      Malaysia      1"
      ]
     },
     "execution_count": 39,
     "metadata": {},
     "output_type": "execute_result"
    }
   ],
   "source": [
    "#load country and states lists\n",
    "country_list = load_json('data/countries.json')\n",
    "states_list = load_json('data/states.json')\n",
    "\n",
    "#dict to hold country counts\n",
    "country_counts = {}\n",
    "\n",
    "user_location = metaverse_tweets['user_location'].fillna('') #remove NA / NaN values\n",
    "\n",
    "#prioritized list to handle multi-word country names\n",
    "prioritized_countries = sorted(country_list, key=len, reverse=True)\n",
    "\n",
    "#aliases mapping\n",
    "aliases = {\n",
    "    'uk': 'UK',\n",
    "    'united kingdom': 'UK',\n",
    "    'united states': 'USA',\n",
    "    'united arab emirates': 'UAE',\n",
    "}\n",
    "\n",
    "#check if any word in the location matches a country or state\n",
    "def find_country(location, states_list, prioritized_countries, aliases):\n",
    "    location_lower = location.lower()\n",
    "    #check for multi-word country names and aliases\n",
    "    for country in prioritized_countries:\n",
    "        if country in location_lower:\n",
    "            return aliases.get(country, country.capitalize())\n",
    "    #check for states\n",
    "    for state in states_list:\n",
    "        if state in location_lower:\n",
    "            return 'USA'\n",
    "    return None\n",
    "\n",
    "#check locations\n",
    "for location in user_location:\n",
    "    if location == '':\n",
    "        continue  #skip if empty\n",
    "    country = find_country(location, states_list, prioritized_countries, aliases)\n",
    "    if country:\n",
    "        if country in country_counts:\n",
    "            country_counts[country] += 1\n",
    "        else:\n",
    "            country_counts[country] = 1\n",
    "\n",
    "#origin and count\n",
    "tweets_origin = pd.DataFrame(list(country_counts.items()), columns=['country', 'count'])\n",
    "#check\n",
    "tweets_origin"
   ]
  },
  {
   "cell_type": "markdown",
   "id": "adc788cd-808f-4b88-b3dc-e38876075089",
   "metadata": {},
   "source": [
    "Let's plot this data to get a better view of it."
   ]
  },
  {
   "cell_type": "code",
   "execution_count": 40,
   "id": "c19248ac-1fb6-406e-b8a7-a3feebc8b694",
   "metadata": {},
   "outputs": [
    {
     "data": {
      "image/png": "[encoded data removed]",
      "text/plain": [
       "<Figure size 800x400 with 1 Axes>"
      ]
     },
     "metadata": {},
     "output_type": "display_data"
    }
   ],
   "source": [
    "#sort by count in descending order\n",
    "tweets_origin = tweets_origin.sort_values(by='count', ascending=False)\n",
    "\n",
    "#plotting\n",
    "plt.figure(figsize=(8, 4))\n",
    "plt.bar(tweets_origin['country'], tweets_origin['count'], color='purple')\n",
    "plt.xlabel('Country')\n",
    "plt.ylabel('Count')\n",
    "plt.title('Count of Tweets by Country')\n",
    "plt.xticks(rotation=45, ha='right')\n",
    "plt.tight_layout()\n",
    "#plot\n",
    "plt.show()"
   ]
  },
  {
   "cell_type": "markdown",
   "id": "a5dda4ac-898c-422e-a7cc-2a6f872b90ea",
   "metadata": {},
   "source": [
    "Here we can see that the US is talking about virtual real estate the most, with Indonesia coming in second, then Nigeria. According to Google Trends [[18]](https://trends.google.com/trends/explore?date=2004-01-01%202021-01-01&q=virtual%20real%20estate&hl=en) though, the US, Canada and Australia are the top three googlers for the term *Virtual Real Estate*."
   ]
  },
  {
   "cell_type": "markdown",
   "id": "4761d61f-e1f8-4744-8da9-dc6639514856",
   "metadata": {},
   "source": [
    "# Conclusion"
   ]
  },
  {
   "cell_type": "markdown",
   "id": "1c7716e9-5cbb-4671-a56f-96489bcc6375",
   "metadata": {},
   "source": [
    "In this project, I set out to explore the difference between traditional and virtual real estate by addressing several questions. By analyzing data from the International House Price Database, I found that the House Price Index (HPI) grew by 1,011% from 1975 to 2023, while Personal Disposable Income (PDI) increased by 1,113%. Contrary to my initial assumption that purchasing power was lagging behind real estate prices, this suggest that people today have greater financial capacity to afford real estate (in theory), despite the substantial increase in house prices. Note that PDI does not take into account the distribution of wealth within a given country.\n",
    "\n",
    "Moreover, after analyzing data from the Decentraland Land API, I showed that the average price of virtual land is approximately 30,000 USD (as of June, 2024). This is significantly more affordable compared to the average *real* house price of 600,000 USD, making virtual land an appealing investment, especially in light of increased purchasing power.\n",
    "\n",
    "Additionally, sentiment analysis of 500 tweets about virtual real estate revealed predominantly neutral sentiments, with 40% positive and 10% negative. This indicates a generally balanced or slightly favorable perception of virtual real estate. Location distribution showed that the US leads in discussions about virtual real estate, followed by Indonesia and Nigeria.\n",
    "\n",
    "In conclusion, the findings indicate that the increased purchasing power and the high cost of traditional real estate might be driving interest in more affordable virtual real estate options. This interest is further supported by positive sentiment and active discussions across various regions, suggesting that virtual real estate is becoming a notable alternative investment in today's world."
   ]
  },
  {
   "cell_type": "markdown",
   "id": "935c606a-b0d0-4ed7-a034-b68d040a4394",
   "metadata": {},
   "source": [
    "# Links"
   ]
  },
  {
   "cell_type": "markdown",
   "id": "17a31dae-9c34-43b7-8177-681a881e9a85",
   "metadata": {},
   "source": [
    "## References"
   ]
  },
  {
   "cell_type": "markdown",
   "id": "e3f5bf29-1356-4716-892a-b5b25b171cf2",
   "metadata": {},
   "source": [
    "[1]: Metaverse Real Estate Statistics (2024) [Link](https://www.rubyhome.com/blog/metaverse-real-estate-stats/) \\\n",
    "[2]: The Interplay Between Policy and Technology in Metaverses: Towards Seamless Avatar Interoperability Using Self-Sovereign Identity [Link](https://ieeexplore.ieee.org/abstract/document/10271870) \\\n",
    "[3]: Why do people use Metaverse? A uses and gratification theory perspective, Telematics and Informatics [Link](https://doi.org/10.1016/j.tele.2024.102110) \\\n",
    "[4]: Turning the Virtual into Reality: China's Role in the Metaverse [Link](https://muse.jhu.edu/article/918867) \\\n",
    "[5]: Why do people use Metaverse? A uses and gratification theory perspective, Telematics and Informatics [Link](https://doi.org/10.1016/j.tele.2024.102110) \\\n",
    "[6]: Decentraland: The Metaverse's Early Mover [Link](https://www.generalist.com/briefing/decentraland) \\\n",
    "[7]: House Price Index [Link](https://en.wikipedia.org/wiki/House_price_index) \\\n",
    "[8]: What is Personal Disposable Income (PDI)? [Link](https://www.bea.gov/resources/learning-center/what-to-know-income-saving) \\\n",
    "[9]: Nominal Values [Link](https://en.wikipedia.org/wiki/Real_and_nominal_value) \\\n",
    "[10]: Decentraland [Link](https://en.wikipedia.org/wiki/Decentraland) \\\n",
    "[11]: Parcels and Land [Link](https://program-ace.com/blog/metaverse-real-estate/#:~:text=Much%20like%20our%20physical%20world,spaces%20to%20intricate%2C%20immersive%20environments.) \\\n",
    "[12]: What is MANA? [Link](https://www.gemini.com/prices/decentraland) \\\n",
    "[13]: Timeline of the 2000s United States housing bubble [Link](https://en.wikipedia.org/wiki/Timeline_of_the_2000s_United_States_housing_bubble#:~:text=2005%3A%20United%20States%20housing%20market,Average%20Home%20Price%20was%20%24283%2C000.) \\\n",
    "[14]: South Carolina Revenue and Fiscal Affairs Office [Link](https://rfa.sc.gov/page/total-disposable-personal-income-us-and-southeastern-states-thousands-dollars-2001-2005) \\\n",
    "[15]: roBERTa Pre-Trained Model [Link](https://huggingface.co/cardiffnlp/twitter-roberta-base-sentiment) \\\n",
    "[16]: Sentiment Analysis by Mehran Shakarami [Link](https://github.com/mehranshakarami/AI_Spectrum/tree/main) \\\n",
    "[17]: CoinGecko API [Link](https://docs.coingecko.com/reference/introduction) \\\n",
    "[18]: Google Trends [Link](https://trends.google.com/trends/explore?date=2004-01-01%202021-01-01&q=virtual%20real%20estate&hl=en)"
   ]
  }
 ],
 "metadata": {
  "kernelspec": {
   "display_name": "Python 3 (ipykernel)",
   "language": "python",
   "name": "python3"
  },
  "language_info": {
   "codemirror_mode": {
    "name": "ipython",
    "version": 3
   },
   "file_extension": ".py",
   "mimetype": "text/x-python",
   "name": "python",
   "nbconvert_exporter": "python",
   "pygments_lexer": "ipython3",
   "version": "3.12.3"
  }
 },
 "nbformat": 4,
 "nbformat_minor": 5
}
